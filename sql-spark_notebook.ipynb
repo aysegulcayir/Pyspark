{
 "cells": [
  {
   "cell_type": "code",
   "execution_count": 7,
   "id": "b0f347ff",
   "metadata": {},
   "outputs": [],
   "source": [
    "import findspark\n",
    "findspark.init()\n",
    "import pyspark\n",
    "from pyspark.sql import SparkSession\n",
    "spark = SparkSession.builder.getOrCreate()\n",
    "df = spark.read.format(\"csv\").option(\"inferschema\",\"True\").option(\"header\",\"True\").option(\"sep\",\",\").load('automobile_data.csv')"
   ]
  },
  {
   "cell_type": "code",
   "execution_count": 7,
   "id": "bd24fc98",
   "metadata": {},
   "outputs": [],
   "source": [
    "df.createOrReplaceTempView(\"df_view\")"
   ]
  },
  {
   "cell_type": "code",
   "execution_count": 8,
   "id": "955b1f7e",
   "metadata": {},
   "outputs": [],
   "source": [
    "auto_df = spark.sql(\"select * from df_view\")"
   ]
  },
  {
   "cell_type": "code",
   "execution_count": 10,
   "id": "5fb1a50b",
   "metadata": {},
   "outputs": [
    {
     "name": "stdout",
     "output_type": "stream",
     "text": [
      "+---------+-----------------+---------+---------+----------+------------+----------+------------+---------------+----------+------+-----+------+-----------+-----------+----------------+-----------+-----------+----+------+-----------------+----------+--------+--------+-----------+-----+\n",
      "|symboling|normalized-losses|     make|fuel-type|aspiration|num-of-doors|body-style|drive-wheels|engine-location|wheel-base|length|width|height|curb-weight|engine-type|num-of-cylinders|engine-size|fuel-system|bore|stroke|compression-ratio|horsepower|peak-rpm|city-mpg|highway-mpg|price|\n",
      "+---------+-----------------+---------+---------+----------+------------+----------+------------+---------------+----------+------+-----+------+-----------+-----------+----------------+-----------+-----------+----+------+-----------------+----------+--------+--------+-----------+-----+\n",
      "|        2|              164|     audi|      gas|       std|        four|     sedan|         fwd|          front|      99.8| 176.6| 66.2|  54.3|       2337|        ohc|            four|        109|       mpfi|3.19|   3.4|             10.0|       102|    5500|      24|         30|13950|\n",
      "|        2|              164|     audi|      gas|       std|        four|     sedan|         4wd|          front|      99.4| 176.6| 66.4|  54.3|       2824|        ohc|            five|        136|       mpfi|3.19|   3.4|              8.0|       115|    5500|      18|         22|17450|\n",
      "|        1|              158|     audi|      gas|       std|        four|     sedan|         fwd|          front|     105.8| 192.7| 71.4|  55.7|       2844|        ohc|            five|        136|       mpfi|3.19|   3.4|              8.5|       110|    5500|      19|         25|17710|\n",
      "|        1|              158|     audi|      gas|     turbo|        four|     sedan|         fwd|          front|     105.8| 192.7| 71.4|  55.9|       3086|        ohc|            five|        131|       mpfi|3.13|   3.4|              8.3|       140|    5500|      17|         20|23875|\n",
      "|        2|              192|      bmw|      gas|       std|         two|     sedan|         rwd|          front|     101.2| 176.8| 64.8|  54.3|       2395|        ohc|            four|        108|       mpfi| 3.5|   2.8|              8.8|       101|    5800|      23|         29|16430|\n",
      "|        0|              192|      bmw|      gas|       std|        four|     sedan|         rwd|          front|     101.2| 176.8| 64.8|  54.3|       2395|        ohc|            four|        108|       mpfi| 3.5|   2.8|              8.8|       101|    5800|      23|         29|16925|\n",
      "|        0|              188|      bmw|      gas|       std|         two|     sedan|         rwd|          front|     101.2| 176.8| 64.8|  54.3|       2710|        ohc|             six|        164|       mpfi|3.31|  3.19|              9.0|       121|    4250|      21|         28|20970|\n",
      "|        0|              188|      bmw|      gas|       std|        four|     sedan|         rwd|          front|     101.2| 176.8| 64.8|  54.3|       2765|        ohc|             six|        164|       mpfi|3.31|  3.19|              9.0|       121|    4250|      21|         28|21105|\n",
      "|        2|              121|chevrolet|      gas|       std|         two| hatchback|         fwd|          front|      88.4| 141.1| 60.3|  53.2|       1488|          l|           three|         61|       2bbl|2.91|  3.03|              9.5|        48|    5100|      47|         53| 5151|\n",
      "|        1|               98|chevrolet|      gas|       std|         two| hatchback|         fwd|          front|      94.5| 155.9| 63.6|  52.0|       1874|        ohc|            four|         90|       2bbl|3.03|  3.11|              9.6|        70|    5400|      38|         43| 6295|\n",
      "|        0|               81|chevrolet|      gas|       std|        four|     sedan|         fwd|          front|      94.5| 158.8| 63.6|  52.0|       1909|        ohc|            four|         90|       2bbl|3.03|  3.11|              9.6|        70|    5400|      38|         43| 6575|\n",
      "|        1|              118|    dodge|      gas|       std|         two| hatchback|         fwd|          front|      93.7| 157.3| 63.8|  50.8|       1876|        ohc|            four|         90|       2bbl|2.97|  3.23|             9.41|        68|    5500|      37|         41| 5572|\n",
      "|        1|              118|    dodge|      gas|       std|         two| hatchback|         fwd|          front|      93.7| 157.3| 63.8|  50.8|       1876|        ohc|            four|         90|       2bbl|2.97|  3.23|              9.4|        68|    5500|      31|         38| 6377|\n",
      "|        1|              118|    dodge|      gas|     turbo|         two| hatchback|         fwd|          front|      93.7| 157.3| 63.8|  50.8|       2128|        ohc|            four|         98|       mpfi|3.03|  3.39|              7.6|       102|    5500|      24|         30| 7957|\n",
      "|        1|              148|    dodge|      gas|       std|        four| hatchback|         fwd|          front|      93.7| 157.3| 63.8|  50.6|       1967|        ohc|            four|         90|       2bbl|2.97|  3.23|              9.4|        68|    5500|      31|         38| 6229|\n",
      "|        1|              148|    dodge|      gas|       std|        four|     sedan|         fwd|          front|      93.7| 157.3| 63.8|  50.6|       1989|        ohc|            four|         90|       2bbl|2.97|  3.23|              9.4|        68|    5500|      31|         38| 6692|\n",
      "|        1|              148|    dodge|      gas|       std|        four|     sedan|         fwd|          front|      93.7| 157.3| 63.8|  50.6|       1989|        ohc|            four|         90|       2bbl|2.97|  3.23|              9.4|        68|    5500|      31|         38| 7609|\n",
      "|       -1|              110|    dodge|      gas|       std|        four|     wagon|         fwd|          front|     103.3| 174.6| 64.6|  59.8|       2535|        ohc|            four|        122|       2bbl|3.34|  3.46|              8.5|        88|    5000|      24|         30| 8921|\n",
      "|        3|              145|    dodge|      gas|     turbo|         two| hatchback|         fwd|          front|      95.9| 173.2| 66.3|  50.2|       2811|        ohc|            four|        156|        mfi| 3.6|   3.9|              7.0|       145|    5000|      19|         24|12964|\n",
      "|        2|              137|    honda|      gas|       std|         two| hatchback|         fwd|          front|      86.6| 144.6| 63.9|  50.8|       1713|        ohc|            four|         92|       1bbl|2.91|  3.41|              9.6|        58|    4800|      49|         54| 6479|\n",
      "+---------+-----------------+---------+---------+----------+------------+----------+------------+---------------+----------+------+-----+------+-----------+-----------+----------------+-----------+-----------+----+------+-----------------+----------+--------+--------+-----------+-----+\n",
      "only showing top 20 rows\n",
      "\n"
     ]
    }
   ],
   "source": [
    "auto_df.show()"
   ]
  },
  {
   "cell_type": "code",
   "execution_count": 8,
   "id": "0cc566c7",
   "metadata": {},
   "outputs": [],
   "source": [
    "from pyspark import SparkContext, SparkConf\n",
    "from pyspark.sql import SQLContext \n",
    "\n",
    "sc = SparkContext.getOrCreate();\n",
    "sqlContext = SQLContext(sc)\n",
    "\n"
   ]
  },
  {
   "cell_type": "code",
   "execution_count": 27,
   "id": "ef72ac0c",
   "metadata": {},
   "outputs": [
    {
     "name": "stdout",
     "output_type": "stream",
     "text": [
      "+---------+-----------------+---------+---------+----------+------------+----------+------------+---------------+----------+------+-----+------+-----------+-----------+----------------+-----------+-----------+----+------+-----------------+----------+--------+--------+-----------+-----+\n",
      "|symboling|normalized-losses|     make|fuel-type|aspiration|num-of-doors|body-style|drive-wheels|engine-location|wheel-base|length|width|height|curb-weight|engine-type|num-of-cylinders|engine-size|fuel-system|bore|stroke|compression-ratio|horsepower|peak-rpm|city-mpg|highway-mpg|price|\n",
      "+---------+-----------------+---------+---------+----------+------------+----------+------------+---------------+----------+------+-----+------+-----------+-----------+----------------+-----------+-----------+----+------+-----------------+----------+--------+--------+-----------+-----+\n",
      "|        2|              164|     audi|      gas|       std|        four|     sedan|         fwd|          front|      99.8| 176.6| 66.2|  54.3|       2337|        ohc|            four|        109|       mpfi|3.19|   3.4|             10.0|       102|    5500|      24|         30|13950|\n",
      "|        2|              164|     audi|      gas|       std|        four|     sedan|         4wd|          front|      99.4| 176.6| 66.4|  54.3|       2824|        ohc|            five|        136|       mpfi|3.19|   3.4|              8.0|       115|    5500|      18|         22|17450|\n",
      "|        1|              158|     audi|      gas|       std|        four|     sedan|         fwd|          front|     105.8| 192.7| 71.4|  55.7|       2844|        ohc|            five|        136|       mpfi|3.19|   3.4|              8.5|       110|    5500|      19|         25|17710|\n",
      "|        1|              158|     audi|      gas|     turbo|        four|     sedan|         fwd|          front|     105.8| 192.7| 71.4|  55.9|       3086|        ohc|            five|        131|       mpfi|3.13|   3.4|              8.3|       140|    5500|      17|         20|23875|\n",
      "|        2|              192|      bmw|      gas|       std|         two|     sedan|         rwd|          front|     101.2| 176.8| 64.8|  54.3|       2395|        ohc|            four|        108|       mpfi| 3.5|   2.8|              8.8|       101|    5800|      23|         29|16430|\n",
      "|        0|              192|      bmw|      gas|       std|        four|     sedan|         rwd|          front|     101.2| 176.8| 64.8|  54.3|       2395|        ohc|            four|        108|       mpfi| 3.5|   2.8|              8.8|       101|    5800|      23|         29|16925|\n",
      "|        0|              188|      bmw|      gas|       std|         two|     sedan|         rwd|          front|     101.2| 176.8| 64.8|  54.3|       2710|        ohc|             six|        164|       mpfi|3.31|  3.19|              9.0|       121|    4250|      21|         28|20970|\n",
      "|        0|              188|      bmw|      gas|       std|        four|     sedan|         rwd|          front|     101.2| 176.8| 64.8|  54.3|       2765|        ohc|             six|        164|       mpfi|3.31|  3.19|              9.0|       121|    4250|      21|         28|21105|\n",
      "|        2|              121|chevrolet|      gas|       std|         two| hatchback|         fwd|          front|      88.4| 141.1| 60.3|  53.2|       1488|          l|           three|         61|       2bbl|2.91|  3.03|              9.5|        48|    5100|      47|         53| 5151|\n",
      "|        1|               98|chevrolet|      gas|       std|         two| hatchback|         fwd|          front|      94.5| 155.9| 63.6|  52.0|       1874|        ohc|            four|         90|       2bbl|3.03|  3.11|              9.6|        70|    5400|      38|         43| 6295|\n",
      "|        0|               81|chevrolet|      gas|       std|        four|     sedan|         fwd|          front|      94.5| 158.8| 63.6|  52.0|       1909|        ohc|            four|         90|       2bbl|3.03|  3.11|              9.6|        70|    5400|      38|         43| 6575|\n",
      "|        1|              118|    dodge|      gas|       std|         two| hatchback|         fwd|          front|      93.7| 157.3| 63.8|  50.8|       1876|        ohc|            four|         90|       2bbl|2.97|  3.23|             9.41|        68|    5500|      37|         41| 5572|\n",
      "|        1|              118|    dodge|      gas|       std|         two| hatchback|         fwd|          front|      93.7| 157.3| 63.8|  50.8|       1876|        ohc|            four|         90|       2bbl|2.97|  3.23|              9.4|        68|    5500|      31|         38| 6377|\n",
      "|        1|              118|    dodge|      gas|     turbo|         two| hatchback|         fwd|          front|      93.7| 157.3| 63.8|  50.8|       2128|        ohc|            four|         98|       mpfi|3.03|  3.39|              7.6|       102|    5500|      24|         30| 7957|\n",
      "|        1|              148|    dodge|      gas|       std|        four| hatchback|         fwd|          front|      93.7| 157.3| 63.8|  50.6|       1967|        ohc|            four|         90|       2bbl|2.97|  3.23|              9.4|        68|    5500|      31|         38| 6229|\n",
      "|        1|              148|    dodge|      gas|       std|        four|     sedan|         fwd|          front|      93.7| 157.3| 63.8|  50.6|       1989|        ohc|            four|         90|       2bbl|2.97|  3.23|              9.4|        68|    5500|      31|         38| 6692|\n",
      "|        1|              148|    dodge|      gas|       std|        four|     sedan|         fwd|          front|      93.7| 157.3| 63.8|  50.6|       1989|        ohc|            four|         90|       2bbl|2.97|  3.23|              9.4|        68|    5500|      31|         38| 7609|\n",
      "|       -1|              110|    dodge|      gas|       std|        four|     wagon|         fwd|          front|     103.3| 174.6| 64.6|  59.8|       2535|        ohc|            four|        122|       2bbl|3.34|  3.46|              8.5|        88|    5000|      24|         30| 8921|\n",
      "|        3|              145|    dodge|      gas|     turbo|         two| hatchback|         fwd|          front|      95.9| 173.2| 66.3|  50.2|       2811|        ohc|            four|        156|        mfi| 3.6|   3.9|              7.0|       145|    5000|      19|         24|12964|\n",
      "|        2|              137|    honda|      gas|       std|         two| hatchback|         fwd|          front|      86.6| 144.6| 63.9|  50.8|       1713|        ohc|            four|         92|       1bbl|2.91|  3.41|              9.6|        58|    4800|      49|         54| 6479|\n",
      "+---------+-----------------+---------+---------+----------+------------+----------+------------+---------------+----------+------+-----+------+-----------+-----------+----------------+-----------+-----------+----+------+-----------------+----------+--------+--------+-----------+-----+\n",
      "only showing top 20 rows\n",
      "\n"
     ]
    }
   ],
   "source": [
    "sqlContext.sql(\"select * from df_view\").show()"
   ]
  },
  {
   "cell_type": "code",
   "execution_count": 48,
   "id": "be9b2d44",
   "metadata": {},
   "outputs": [
    {
     "name": "stdout",
     "output_type": "stream",
     "text": [
      "+---------+---------+\n",
      "|     make|symboling|\n",
      "+---------+---------+\n",
      "|     audi|        2|\n",
      "|     audi|        2|\n",
      "|     audi|        1|\n",
      "|     audi|        1|\n",
      "|      bmw|        2|\n",
      "|      bmw|        0|\n",
      "|      bmw|        0|\n",
      "|      bmw|        0|\n",
      "|chevrolet|        2|\n",
      "|chevrolet|        1|\n",
      "|chevrolet|        0|\n",
      "|    dodge|        1|\n",
      "|    dodge|        1|\n",
      "|    dodge|        1|\n",
      "|    dodge|        1|\n",
      "|    dodge|        1|\n",
      "|    dodge|        1|\n",
      "|    dodge|       -1|\n",
      "|    dodge|        3|\n",
      "|    honda|        2|\n",
      "+---------+---------+\n",
      "only showing top 20 rows\n",
      "\n"
     ]
    }
   ],
   "source": [
    "spark.sql(\"select make, symboling from df_view\").show()"
   ]
  },
  {
   "cell_type": "code",
   "execution_count": 1,
   "id": "2bb9c742",
   "metadata": {},
   "outputs": [],
   "source": [
    "#spark.sql(\"select make, symboling from df_view where make='audi' and symboling = 2\").write.saveAsTable(\"high_symbol_audi\")"
   ]
  },
  {
   "cell_type": "code",
   "execution_count": 1,
   "id": "b8d03438",
   "metadata": {},
   "outputs": [
    {
     "data": {
      "text/plain": [
       "'3.2.0'"
      ]
     },
     "execution_count": 1,
     "metadata": {},
     "output_type": "execute_result"
    }
   ],
   "source": [
    "import pyspark\n",
    "pyspark.__version__"
   ]
  },
  {
   "cell_type": "code",
   "execution_count": 10,
   "id": "00a977b3",
   "metadata": {},
   "outputs": [
    {
     "ename": "ValueError",
     "evalue": "Cannot run multiple SparkContexts at once; existing SparkContext(app=pyspark-shell, master=local[*]) created by __init__ at C:\\Users\\acayiray\\AppData\\Local\\Temp/ipykernel_3276/2979621849.py:2 ",
     "output_type": "error",
     "traceback": [
      "\u001b[1;31m---------------------------------------------------------------------------\u001b[0m",
      "\u001b[1;31mValueError\u001b[0m                                Traceback (most recent call last)",
      "\u001b[1;32m~\\AppData\\Local\\Temp/ipykernel_3276/2059383488.py\u001b[0m in \u001b[0;36m<module>\u001b[1;34m\u001b[0m\n\u001b[0;32m      1\u001b[0m \u001b[1;32mfrom\u001b[0m \u001b[0mpyspark\u001b[0m \u001b[1;32mimport\u001b[0m \u001b[0mSparkContext\u001b[0m\u001b[1;33m\u001b[0m\u001b[1;33m\u001b[0m\u001b[0m\n\u001b[1;32m----> 2\u001b[1;33m \u001b[0msc\u001b[0m \u001b[1;33m=\u001b[0m \u001b[0mSparkContext\u001b[0m\u001b[1;33m(\u001b[0m\u001b[1;33m)\u001b[0m\u001b[1;33m\u001b[0m\u001b[1;33m\u001b[0m\u001b[0m\n\u001b[0m\u001b[0;32m      3\u001b[0m \u001b[0msc\u001b[0m\u001b[1;33m.\u001b[0m\u001b[0maddPyFile\u001b[0m\u001b[1;33m(\u001b[0m\u001b[1;34m'C:/Users/acayiray/Downloads\\/-3.2.0-bin-hadoop3.2 (1)/spark-3.2.0-bin-hadoop3.2/jars/graphframes-0.5.0-spark2.1-s_2.11.jar'\u001b[0m\u001b[1;33m)\u001b[0m\u001b[1;33m\u001b[0m\u001b[1;33m\u001b[0m\u001b[0m\n",
      "\u001b[1;32m~\\AppData\\Roaming\\Python\\Python39\\site-packages\\pyspark\\context.py\u001b[0m in \u001b[0;36m__init__\u001b[1;34m(self, master, appName, sparkHome, pyFiles, environment, batchSize, serializer, conf, gateway, jsc, profiler_cls)\u001b[0m\n\u001b[0;32m    142\u001b[0m                 \" is not allowed as it is a security risk.\")\n\u001b[0;32m    143\u001b[0m \u001b[1;33m\u001b[0m\u001b[0m\n\u001b[1;32m--> 144\u001b[1;33m         \u001b[0mSparkContext\u001b[0m\u001b[1;33m.\u001b[0m\u001b[0m_ensure_initialized\u001b[0m\u001b[1;33m(\u001b[0m\u001b[0mself\u001b[0m\u001b[1;33m,\u001b[0m \u001b[0mgateway\u001b[0m\u001b[1;33m=\u001b[0m\u001b[0mgateway\u001b[0m\u001b[1;33m,\u001b[0m \u001b[0mconf\u001b[0m\u001b[1;33m=\u001b[0m\u001b[0mconf\u001b[0m\u001b[1;33m)\u001b[0m\u001b[1;33m\u001b[0m\u001b[1;33m\u001b[0m\u001b[0m\n\u001b[0m\u001b[0;32m    145\u001b[0m         \u001b[1;32mtry\u001b[0m\u001b[1;33m:\u001b[0m\u001b[1;33m\u001b[0m\u001b[1;33m\u001b[0m\u001b[0m\n\u001b[0;32m    146\u001b[0m             self._do_init(master, appName, sparkHome, pyFiles, environment, batchSize, serializer,\n",
      "\u001b[1;32m~\\AppData\\Roaming\\Python\\Python39\\site-packages\\pyspark\\context.py\u001b[0m in \u001b[0;36m_ensure_initialized\u001b[1;34m(cls, instance, gateway, conf)\u001b[0m\n\u001b[0;32m    348\u001b[0m \u001b[1;33m\u001b[0m\u001b[0m\n\u001b[0;32m    349\u001b[0m                     \u001b[1;31m# Raise error if there is already a running Spark context\u001b[0m\u001b[1;33m\u001b[0m\u001b[1;33m\u001b[0m\u001b[0m\n\u001b[1;32m--> 350\u001b[1;33m                     raise ValueError(\n\u001b[0m\u001b[0;32m    351\u001b[0m                         \u001b[1;34m\"Cannot run multiple SparkContexts at once; \"\u001b[0m\u001b[1;33m\u001b[0m\u001b[1;33m\u001b[0m\u001b[0m\n\u001b[0;32m    352\u001b[0m                         \u001b[1;34m\"existing SparkContext(app=%s, master=%s)\"\u001b[0m\u001b[1;33m\u001b[0m\u001b[1;33m\u001b[0m\u001b[0m\n",
      "\u001b[1;31mValueError\u001b[0m: Cannot run multiple SparkContexts at once; existing SparkContext(app=pyspark-shell, master=local[*]) created by __init__ at C:\\Users\\acayiray\\AppData\\Local\\Temp/ipykernel_3276/2979621849.py:2 "
     ]
    }
   ],
   "source": [
    "from pyspark import SparkContext\n",
    "sc = SparkContext()\n",
    "sc.addPyFile('C:/Users/acayiray/Downloads\\/-3.2.0-bin-hadoop3.2 (1)/spark-3.2.0-bin-hadoop3.2/jars/graphframes-0.5.0-spark2.1-s_2.11.jar')"
   ]
  },
  {
   "cell_type": "code",
   "execution_count": 2,
   "id": "75befc6d",
   "metadata": {},
   "outputs": [
    {
     "ename": "ModuleNotFoundError",
     "evalue": "No module named 'graphframes'",
     "output_type": "error",
     "traceback": [
      "\u001b[1;31m---------------------------------------------------------------------------\u001b[0m",
      "\u001b[1;31mModuleNotFoundError\u001b[0m                       Traceback (most recent call last)",
      "\u001b[1;32m~\\AppData\\Local\\Temp/ipykernel_3276/2569329275.py\u001b[0m in \u001b[0;36m<module>\u001b[1;34m\u001b[0m\n\u001b[0;32m      1\u001b[0m \u001b[1;32mfrom\u001b[0m \u001b[0mpyspark\u001b[0m\u001b[1;33m.\u001b[0m\u001b[0msql\u001b[0m\u001b[1;33m.\u001b[0m\u001b[0mfunctions\u001b[0m  \u001b[1;32mimport\u001b[0m \u001b[0mcol\u001b[0m\u001b[1;33m\u001b[0m\u001b[1;33m\u001b[0m\u001b[0m\n\u001b[0;32m      2\u001b[0m \u001b[1;32mimport\u001b[0m \u001b[0mpandas\u001b[0m \u001b[1;32mas\u001b[0m \u001b[0mpd\u001b[0m\u001b[1;33m\u001b[0m\u001b[1;33m\u001b[0m\u001b[0m\n\u001b[1;32m----> 3\u001b[1;33m \u001b[1;32mfrom\u001b[0m \u001b[0mgraphframes\u001b[0m \u001b[1;32mimport\u001b[0m \u001b[0mGraphFrame\u001b[0m\u001b[1;33m\u001b[0m\u001b[1;33m\u001b[0m\u001b[0m\n\u001b[0m",
      "\u001b[1;31mModuleNotFoundError\u001b[0m: No module named 'graphframes'"
     ]
    }
   ],
   "source": [
    "from pyspark.sql.functions  import col\n",
    "import pandas as pd\n",
    "from graphframes import GraphFrame"
   ]
  },
  {
   "cell_type": "code",
   "execution_count": null,
   "id": "c86556d0",
   "metadata": {},
   "outputs": [],
   "source": []
  }
 ],
 "metadata": {
  "kernelspec": {
   "display_name": "Python 3 (ipykernel)",
   "language": "python",
   "name": "python3"
  },
  "language_info": {
   "codemirror_mode": {
    "name": "ipython",
    "version": 3
   },
   "file_extension": ".py",
   "mimetype": "text/x-python",
   "name": "python",
   "nbconvert_exporter": "python",
   "pygments_lexer": "ipython3",
   "version": "3.9.7"
  }
 },
 "nbformat": 4,
 "nbformat_minor": 5
}
