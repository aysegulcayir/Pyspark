{
 "cells": [
  {
   "cell_type": "code",
   "execution_count": 156,
   "id": "ba89c600",
   "metadata": {},
   "outputs": [],
   "source": [
    "\n",
    "import findspark\n",
    "\n",
    "findspark.init()\n"
   ]
  },
  {
   "cell_type": "code",
   "execution_count": 157,
   "id": "32292661",
   "metadata": {},
   "outputs": [
    {
     "name": "stdout",
     "output_type": "stream",
     "text": [
      "+-----+\n",
      "|hello|\n",
      "+-----+\n",
      "|spark|\n",
      "+-----+\n",
      "\n"
     ]
    }
   ],
   "source": [
    "import pyspark\n",
    "from pyspark.sql import SparkSession\n",
    "spark = SparkSession.builder.getOrCreate()\n",
    "\n",
    "df = spark.sql('''select 'spark' as hello ''')\n",
    "df.show()"
   ]
  },
  {
   "cell_type": "code",
   "execution_count": 158,
   "id": "71777c97",
   "metadata": {},
   "outputs": [
    {
     "data": {
      "text/plain": [
       "DataFrame[hello: string]"
      ]
     },
     "metadata": {},
     "output_type": "display_data"
    }
   ],
   "source": [
    "display(df)"
   ]
  },
  {
   "cell_type": "code",
   "execution_count": 159,
   "id": "436be59d",
   "metadata": {},
   "outputs": [],
   "source": [
    "spark = SparkSession.builder.appName(\"MLwithSpark\").getOrCreate()"
   ]
  },
  {
   "cell_type": "code",
   "execution_count": 160,
   "id": "e59d635e",
   "metadata": {},
   "outputs": [
    {
     "data": {
      "text/html": [
       "\n",
       "            <div>\n",
       "                <p><b>SparkSession - in-memory</b></p>\n",
       "                \n",
       "        <div>\n",
       "            <p><b>SparkContext</b></p>\n",
       "\n",
       "            <p><a href=\"http://LBNL822852.corp.capgemini.com:4040\">Spark UI</a></p>\n",
       "\n",
       "            <dl>\n",
       "              <dt>Version</dt>\n",
       "                <dd><code>v3.2.0</code></dd>\n",
       "              <dt>Master</dt>\n",
       "                <dd><code>local[*]</code></dd>\n",
       "              <dt>AppName</dt>\n",
       "                <dd><code>pyspark-shell</code></dd>\n",
       "            </dl>\n",
       "        </div>\n",
       "        \n",
       "            </div>\n",
       "        "
      ],
      "text/plain": [
       "<pyspark.sql.session.SparkSession at 0x1c0bdbbe490>"
      ]
     },
     "execution_count": 160,
     "metadata": {},
     "output_type": "execute_result"
    }
   ],
   "source": [
    "spark"
   ]
  },
  {
   "cell_type": "code",
   "execution_count": 161,
   "id": "f9bd0870",
   "metadata": {},
   "outputs": [],
   "source": [
    "df = spark.read.csv(\"business-price-indexes-september-2021-quarter-csv.csv\",header=True,sep=',')"
   ]
  },
  {
   "cell_type": "code",
   "execution_count": 162,
   "id": "08c2613c",
   "metadata": {},
   "outputs": [],
   "source": [
    "df = spark.read.format(\"csv\").option(\"inferschema\",\"True\").option(\"header\",\"True\").option(\"sep\",\",\").load(\"business-price-indexes-september-2021-quarter-csv.csv\")"
   ]
  },
  {
   "cell_type": "code",
   "execution_count": 163,
   "id": "06481b4e",
   "metadata": {},
   "outputs": [
    {
     "data": {
      "text/plain": [
       "DataFrame[Series_reference: string, Period: double, Data_value: double, STATUS: string, UNITS: string, Subject: string, Group: string, Series_title_1: string, Series_title_2: string, Series_title_3: string, Series_title_4: string, Series_title_5: string]"
      ]
     },
     "metadata": {},
     "output_type": "display_data"
    }
   ],
   "source": [
    "display(df)"
   ]
  },
  {
   "cell_type": "code",
   "execution_count": 164,
   "id": "aa9478e6",
   "metadata": {},
   "outputs": [
    {
     "name": "stdout",
     "output_type": "stream",
     "text": [
      "+----------------+-------+----------+------+-----+--------------------+--------------------+--------------------+--------------+--------------+--------------+--------------+\n",
      "|Series_reference| Period|Data_value|STATUS|UNITS|             Subject|               Group|      Series_title_1|Series_title_2|Series_title_3|Series_title_4|Series_title_5|\n",
      "+----------------+-------+----------+------+-----+--------------------+--------------------+--------------------+--------------+--------------+--------------+--------------+\n",
      "|      CEPQ.S2371|1996.12|     899.0| FINAL|Index|Capital Goods Pri...|Price Index by It...|Glass and glass p...|          null|          null|          null|          null|\n",
      "|      CEPQ.S2371|1997.03|     884.0| FINAL|Index|Capital Goods Pri...|Price Index by It...|Glass and glass p...|          null|          null|          null|          null|\n",
      "|      CEPQ.S2371|1997.06|     925.0| FINAL|Index|Capital Goods Pri...|Price Index by It...|Glass and glass p...|          null|          null|          null|          null|\n",
      "|      CEPQ.S2371|1997.09|     932.0| FINAL|Index|Capital Goods Pri...|Price Index by It...|Glass and glass p...|          null|          null|          null|          null|\n",
      "|      CEPQ.S2371|1997.12|     929.0| FINAL|Index|Capital Goods Pri...|Price Index by It...|Glass and glass p...|          null|          null|          null|          null|\n",
      "|      CEPQ.S2371|1998.03|     940.0| FINAL|Index|Capital Goods Pri...|Price Index by It...|Glass and glass p...|          null|          null|          null|          null|\n",
      "|      CEPQ.S2371|1998.06|     956.0| FINAL|Index|Capital Goods Pri...|Price Index by It...|Glass and glass p...|          null|          null|          null|          null|\n",
      "|      CEPQ.S2371|1998.09|     958.0| FINAL|Index|Capital Goods Pri...|Price Index by It...|Glass and glass p...|          null|          null|          null|          null|\n",
      "|      CEPQ.S2371|1998.12|     970.0| FINAL|Index|Capital Goods Pri...|Price Index by It...|Glass and glass p...|          null|          null|          null|          null|\n",
      "|      CEPQ.S2371|1999.03|    1000.0| FINAL|Index|Capital Goods Pri...|Price Index by It...|Glass and glass p...|          null|          null|          null|          null|\n",
      "+----------------+-------+----------+------+-----+--------------------+--------------------+--------------------+--------------+--------------+--------------+--------------+\n",
      "only showing top 10 rows\n",
      "\n"
     ]
    }
   ],
   "source": [
    "df.show(10)"
   ]
  },
  {
   "cell_type": "code",
   "execution_count": 165,
   "id": "1d8437f8",
   "metadata": {},
   "outputs": [
    {
     "data": {
      "text/plain": [
       "['Series_reference',\n",
       " 'Period',\n",
       " 'Data_value',\n",
       " 'STATUS',\n",
       " 'UNITS',\n",
       " 'Subject',\n",
       " 'Group',\n",
       " 'Series_title_1',\n",
       " 'Series_title_2',\n",
       " 'Series_title_3',\n",
       " 'Series_title_4',\n",
       " 'Series_title_5']"
      ]
     },
     "execution_count": 165,
     "metadata": {},
     "output_type": "execute_result"
    }
   ],
   "source": [
    "df.columns"
   ]
  },
  {
   "cell_type": "code",
   "execution_count": 166,
   "id": "8785c81d",
   "metadata": {},
   "outputs": [
    {
     "name": "stdout",
     "output_type": "stream",
     "text": [
      "+----------------+-------+----------+------+-----+--------------------+--------------------+--------------------+\n",
      "|Series_reference| Period|Data_value|STATUS|UNITS|             Subject|               Group|      Series_title_1|\n",
      "+----------------+-------+----------+------+-----+--------------------+--------------------+--------------------+\n",
      "|      CEPQ.S2371|1996.12|     899.0| FINAL|Index|Capital Goods Pri...|Price Index by It...|Glass and glass p...|\n",
      "|      CEPQ.S2371|1997.03|     884.0| FINAL|Index|Capital Goods Pri...|Price Index by It...|Glass and glass p...|\n",
      "|      CEPQ.S2371|1997.06|     925.0| FINAL|Index|Capital Goods Pri...|Price Index by It...|Glass and glass p...|\n",
      "|      CEPQ.S2371|1997.09|     932.0| FINAL|Index|Capital Goods Pri...|Price Index by It...|Glass and glass p...|\n",
      "|      CEPQ.S2371|1997.12|     929.0| FINAL|Index|Capital Goods Pri...|Price Index by It...|Glass and glass p...|\n",
      "|      CEPQ.S2371|1998.03|     940.0| FINAL|Index|Capital Goods Pri...|Price Index by It...|Glass and glass p...|\n",
      "|      CEPQ.S2371|1998.06|     956.0| FINAL|Index|Capital Goods Pri...|Price Index by It...|Glass and glass p...|\n",
      "|      CEPQ.S2371|1998.09|     958.0| FINAL|Index|Capital Goods Pri...|Price Index by It...|Glass and glass p...|\n",
      "|      CEPQ.S2371|1998.12|     970.0| FINAL|Index|Capital Goods Pri...|Price Index by It...|Glass and glass p...|\n",
      "|      CEPQ.S2371|1999.03|    1000.0| FINAL|Index|Capital Goods Pri...|Price Index by It...|Glass and glass p...|\n",
      "|      CEPQ.S2371|1999.06|    1000.0| FINAL|Index|Capital Goods Pri...|Price Index by It...|Glass and glass p...|\n",
      "|      CEPQ.S2371|1999.09|    1000.0| FINAL|Index|Capital Goods Pri...|Price Index by It...|Glass and glass p...|\n",
      "|      CEPQ.S2371|1999.12|    1000.0| FINAL|Index|Capital Goods Pri...|Price Index by It...|Glass and glass p...|\n",
      "|      CEPQ.S2371|2000.03|     949.0| FINAL|Index|Capital Goods Pri...|Price Index by It...|Glass and glass p...|\n",
      "|      CEPQ.S2371|2000.06|     953.0| FINAL|Index|Capital Goods Pri...|Price Index by It...|Glass and glass p...|\n",
      "|      CEPQ.S2371|2000.09|     964.0| FINAL|Index|Capital Goods Pri...|Price Index by It...|Glass and glass p...|\n",
      "|      CEPQ.S2371|2000.12|     970.0| FINAL|Index|Capital Goods Pri...|Price Index by It...|Glass and glass p...|\n",
      "|      CEPQ.S2371|2001.03|     970.0| FINAL|Index|Capital Goods Pri...|Price Index by It...|Glass and glass p...|\n",
      "|      CEPQ.S2371|2001.06|     936.0| FINAL|Index|Capital Goods Pri...|Price Index by It...|Glass and glass p...|\n",
      "|      CEPQ.S2371|2001.09|     936.0| FINAL|Index|Capital Goods Pri...|Price Index by It...|Glass and glass p...|\n",
      "+----------------+-------+----------+------+-----+--------------------+--------------------+--------------------+\n",
      "only showing top 20 rows\n",
      "\n"
     ]
    }
   ],
   "source": [
    "df.select('Series_reference',\n",
    " 'Period',\n",
    " 'Data_value',\n",
    " 'STATUS',\n",
    " 'UNITS',\n",
    " 'Subject',\n",
    " 'Group',\n",
    " 'Series_title_1').show()"
   ]
  },
  {
   "cell_type": "code",
   "execution_count": 167,
   "id": "fa78e53d",
   "metadata": {},
   "outputs": [
    {
     "data": {
      "text/plain": [
       "Row(Series_reference='CEPQ.S2371', Period=1996.12, Data_value=899.0, STATUS='FINAL', UNITS='Index', Subject='Capital Goods Price Index - CEP', Group='Price Index by Item - Plant, Machinery and Equipment (Base: Sept 1999 = 1000)', Series_title_1='Glass and glass products', Series_title_2=None, Series_title_3=None, Series_title_4=None, Series_title_5=None)"
      ]
     },
     "execution_count": 167,
     "metadata": {},
     "output_type": "execute_result"
    }
   ],
   "source": [
    "df.first()"
   ]
  },
  {
   "cell_type": "code",
   "execution_count": 168,
   "id": "72f9c262",
   "metadata": {},
   "outputs": [
    {
     "data": {
      "text/plain": [
       "[('Series_reference', 'string'),\n",
       " ('Period', 'double'),\n",
       " ('Data_value', 'double'),\n",
       " ('STATUS', 'string'),\n",
       " ('UNITS', 'string'),\n",
       " ('Subject', 'string'),\n",
       " ('Group', 'string'),\n",
       " ('Series_title_1', 'string'),\n",
       " ('Series_title_2', 'string'),\n",
       " ('Series_title_3', 'string'),\n",
       " ('Series_title_4', 'string'),\n",
       " ('Series_title_5', 'string')]"
      ]
     },
     "execution_count": 168,
     "metadata": {},
     "output_type": "execute_result"
    }
   ],
   "source": [
    "df.dtypes"
   ]
  },
  {
   "cell_type": "code",
   "execution_count": 169,
   "id": "3ff7ed8e",
   "metadata": {},
   "outputs": [
    {
     "data": {
      "text/plain": [
       "71194"
      ]
     },
     "execution_count": 169,
     "metadata": {},
     "output_type": "execute_result"
    }
   ],
   "source": [
    "# Check the number of rows\n",
    "df.count()"
   ]
  },
  {
   "cell_type": "code",
   "execution_count": 170,
   "id": "2d45212a",
   "metadata": {},
   "outputs": [
    {
     "data": {
      "text/plain": [
       "12"
      ]
     },
     "execution_count": 170,
     "metadata": {},
     "output_type": "execute_result"
    }
   ],
   "source": [
    "len(df.columns)"
   ]
  },
  {
   "cell_type": "code",
   "execution_count": 171,
   "id": "6f69e6b2",
   "metadata": {},
   "outputs": [
    {
     "name": "stdout",
     "output_type": "stream",
     "text": [
      "+-------+----------------+------------------+-----------------+------+-------+--------------------+--------------------+--------------------+--------------------+--------------+--------------+--------------+\n",
      "|summary|Series_reference|            Period|       Data_value|STATUS|  UNITS|             Subject|               Group|      Series_title_1|      Series_title_2|Series_title_3|Series_title_4|Series_title_5|\n",
      "+-------+----------------+------------------+-----------------+------+-------+--------------------+--------------------+--------------------+--------------------+--------------+--------------+--------------+\n",
      "|  count|           71194|             71194|            70794| 71194|  71194|               71194|               71194|               71194|                 945|             0|             0|             0|\n",
      "|   mean|            null|2007.5713557325712|947.7158238139847|  null|   null|                null|                null|                null|                null|          null|          null|          null|\n",
      "| stddev|            null| 9.587046445450166|301.7978487938345|  null|   null|                null|                null|                null|                null|          null|          null|          null|\n",
      "|    min|      CEPQ.S2371|           1977.12|             -5.8| FINAL|  Index|Capital Goods Pri...|Energy Price Inde...|Accident and heal...|Percentage change...|          null|          null|          null|\n",
      "|    max|  PPIQ.SQURS2110|           2021.09|           3619.0| FINAL|Percent|Producers Price I...|Published output ...|Woven fabrics and...|Percentage change...|          null|          null|          null|\n",
      "+-------+----------------+------------------+-----------------+------+-------+--------------------+--------------------+--------------------+--------------------+--------------+--------------+--------------+\n",
      "\n"
     ]
    }
   ],
   "source": [
    "df.describe().show()"
   ]
  },
  {
   "cell_type": "code",
   "execution_count": 172,
   "id": "7147fac9",
   "metadata": {},
   "outputs": [
    {
     "name": "stdout",
     "output_type": "stream",
     "text": [
      "+-------+------------------+\n",
      "|summary|            Period|\n",
      "+-------+------------------+\n",
      "|  count|             71194|\n",
      "|   mean|2007.5713557325712|\n",
      "| stddev| 9.587046445450166|\n",
      "|    min|           1977.12|\n",
      "|    max|           2021.09|\n",
      "+-------+------------------+\n",
      "\n"
     ]
    }
   ],
   "source": [
    "df.describe('Period').show()"
   ]
  },
  {
   "cell_type": "code",
   "execution_count": 173,
   "id": "e6f5ff05",
   "metadata": {},
   "outputs": [
    {
     "name": "stdout",
     "output_type": "stream",
     "text": [
      "+-------+----------+------+-----+--------------------+--------------------+--------------------+\n",
      "| Period|Data_value|STATUS|UNITS|             Subject|               Group|      Series_title_1|\n",
      "+-------+----------+------+-----+--------------------+--------------------+--------------------+\n",
      "|1996.12|     899.0| FINAL|Index|Capital Goods Pri...|Price Index by It...|Glass and glass p...|\n",
      "|1997.03|     884.0| FINAL|Index|Capital Goods Pri...|Price Index by It...|Glass and glass p...|\n",
      "|1997.06|     925.0| FINAL|Index|Capital Goods Pri...|Price Index by It...|Glass and glass p...|\n",
      "|1997.09|     932.0| FINAL|Index|Capital Goods Pri...|Price Index by It...|Glass and glass p...|\n",
      "|1997.12|     929.0| FINAL|Index|Capital Goods Pri...|Price Index by It...|Glass and glass p...|\n",
      "|1998.03|     940.0| FINAL|Index|Capital Goods Pri...|Price Index by It...|Glass and glass p...|\n",
      "|1998.06|     956.0| FINAL|Index|Capital Goods Pri...|Price Index by It...|Glass and glass p...|\n",
      "|1998.09|     958.0| FINAL|Index|Capital Goods Pri...|Price Index by It...|Glass and glass p...|\n",
      "|1998.12|     970.0| FINAL|Index|Capital Goods Pri...|Price Index by It...|Glass and glass p...|\n",
      "|1999.03|    1000.0| FINAL|Index|Capital Goods Pri...|Price Index by It...|Glass and glass p...|\n",
      "|1999.06|    1000.0| FINAL|Index|Capital Goods Pri...|Price Index by It...|Glass and glass p...|\n",
      "|1999.09|    1000.0| FINAL|Index|Capital Goods Pri...|Price Index by It...|Glass and glass p...|\n",
      "|1999.12|    1000.0| FINAL|Index|Capital Goods Pri...|Price Index by It...|Glass and glass p...|\n",
      "|2000.03|     949.0| FINAL|Index|Capital Goods Pri...|Price Index by It...|Glass and glass p...|\n",
      "|2000.06|     953.0| FINAL|Index|Capital Goods Pri...|Price Index by It...|Glass and glass p...|\n",
      "|2000.09|     964.0| FINAL|Index|Capital Goods Pri...|Price Index by It...|Glass and glass p...|\n",
      "|2000.12|     970.0| FINAL|Index|Capital Goods Pri...|Price Index by It...|Glass and glass p...|\n",
      "|2001.03|     970.0| FINAL|Index|Capital Goods Pri...|Price Index by It...|Glass and glass p...|\n",
      "|2001.06|     936.0| FINAL|Index|Capital Goods Pri...|Price Index by It...|Glass and glass p...|\n",
      "|2001.09|     936.0| FINAL|Index|Capital Goods Pri...|Price Index by It...|Glass and glass p...|\n",
      "+-------+----------+------+-----+--------------------+--------------------+--------------------+\n",
      "only showing top 20 rows\n",
      "\n"
     ]
    }
   ],
   "source": [
    "df.select('Period','Data_value','STATUS', 'UNITS',\n",
    " 'Subject','Group','Series_title_1').show()"
   ]
  },
  {
   "cell_type": "code",
   "execution_count": 174,
   "id": "f0f96ee8",
   "metadata": {},
   "outputs": [
    {
     "name": "stdout",
     "output_type": "stream",
     "text": [
      "+-------+\n",
      "| Period|\n",
      "+-------+\n",
      "|1996.12|\n",
      "|1997.03|\n",
      "|1997.06|\n",
      "|1997.09|\n",
      "|1997.12|\n",
      "|1998.03|\n",
      "|1998.06|\n",
      "|1998.09|\n",
      "|1998.12|\n",
      "|1999.03|\n",
      "|1999.06|\n",
      "|1999.09|\n",
      "|1999.12|\n",
      "|2000.03|\n",
      "|2000.06|\n",
      "|2000.09|\n",
      "|2000.12|\n",
      "|2001.03|\n",
      "|2001.06|\n",
      "|2001.09|\n",
      "+-------+\n",
      "only showing top 20 rows\n",
      "\n"
     ]
    }
   ],
   "source": [
    "df.select('Period').show()"
   ]
  },
  {
   "cell_type": "code",
   "execution_count": 176,
   "id": "b044e1fb",
   "metadata": {},
   "outputs": [],
   "source": [
    "import pandas as pd\n",
    "import numpy as np\n",
    "#df.dropna(axis='columns',how='all')\n",
    "df = df.drop(\"Series_title_2\",\"Series_title_3\",\"Series_title_4\",\"Series_title_5\")"
   ]
  },
  {
   "cell_type": "code",
   "execution_count": 177,
   "id": "fe645086",
   "metadata": {},
   "outputs": [
    {
     "name": "stdout",
     "output_type": "stream",
     "text": [
      "+----------------+-------+----------+------+-----+--------------------+--------------------+--------------------+\n",
      "|Series_reference| Period|Data_value|STATUS|UNITS|             Subject|               Group|      Series_title_1|\n",
      "+----------------+-------+----------+------+-----+--------------------+--------------------+--------------------+\n",
      "|      CEPQ.S2371|1996.12|     899.0| FINAL|Index|Capital Goods Pri...|Price Index by It...|Glass and glass p...|\n",
      "|      CEPQ.S2371|1997.03|     884.0| FINAL|Index|Capital Goods Pri...|Price Index by It...|Glass and glass p...|\n",
      "|      CEPQ.S2371|1997.06|     925.0| FINAL|Index|Capital Goods Pri...|Price Index by It...|Glass and glass p...|\n",
      "|      CEPQ.S2371|1997.09|     932.0| FINAL|Index|Capital Goods Pri...|Price Index by It...|Glass and glass p...|\n",
      "|      CEPQ.S2371|1997.12|     929.0| FINAL|Index|Capital Goods Pri...|Price Index by It...|Glass and glass p...|\n",
      "|      CEPQ.S2371|1998.03|     940.0| FINAL|Index|Capital Goods Pri...|Price Index by It...|Glass and glass p...|\n",
      "|      CEPQ.S2371|1998.06|     956.0| FINAL|Index|Capital Goods Pri...|Price Index by It...|Glass and glass p...|\n",
      "|      CEPQ.S2371|1998.09|     958.0| FINAL|Index|Capital Goods Pri...|Price Index by It...|Glass and glass p...|\n",
      "|      CEPQ.S2371|1998.12|     970.0| FINAL|Index|Capital Goods Pri...|Price Index by It...|Glass and glass p...|\n",
      "|      CEPQ.S2371|1999.03|    1000.0| FINAL|Index|Capital Goods Pri...|Price Index by It...|Glass and glass p...|\n",
      "|      CEPQ.S2371|1999.06|    1000.0| FINAL|Index|Capital Goods Pri...|Price Index by It...|Glass and glass p...|\n",
      "|      CEPQ.S2371|1999.09|    1000.0| FINAL|Index|Capital Goods Pri...|Price Index by It...|Glass and glass p...|\n",
      "|      CEPQ.S2371|1999.12|    1000.0| FINAL|Index|Capital Goods Pri...|Price Index by It...|Glass and glass p...|\n",
      "|      CEPQ.S2371|2000.03|     949.0| FINAL|Index|Capital Goods Pri...|Price Index by It...|Glass and glass p...|\n",
      "|      CEPQ.S2371|2000.06|     953.0| FINAL|Index|Capital Goods Pri...|Price Index by It...|Glass and glass p...|\n",
      "|      CEPQ.S2371|2000.09|     964.0| FINAL|Index|Capital Goods Pri...|Price Index by It...|Glass and glass p...|\n",
      "|      CEPQ.S2371|2000.12|     970.0| FINAL|Index|Capital Goods Pri...|Price Index by It...|Glass and glass p...|\n",
      "|      CEPQ.S2371|2001.03|     970.0| FINAL|Index|Capital Goods Pri...|Price Index by It...|Glass and glass p...|\n",
      "|      CEPQ.S2371|2001.06|     936.0| FINAL|Index|Capital Goods Pri...|Price Index by It...|Glass and glass p...|\n",
      "|      CEPQ.S2371|2001.09|     936.0| FINAL|Index|Capital Goods Pri...|Price Index by It...|Glass and glass p...|\n",
      "+----------------+-------+----------+------+-----+--------------------+--------------------+--------------------+\n",
      "only showing top 20 rows\n",
      "\n"
     ]
    }
   ],
   "source": [
    "df.show()"
   ]
  },
  {
   "cell_type": "code",
   "execution_count": 178,
   "id": "ddd6c193",
   "metadata": {},
   "outputs": [
    {
     "name": "stdout",
     "output_type": "stream",
     "text": [
      "+--------------------+--------------------+-----+\n",
      "|             Subject|      Series_Title_1|count|\n",
      "+--------------------+--------------------+-----+\n",
      "|   Farm Inputs - FPI|Horticulture and ...|  116|\n",
      "|   Farm Inputs - FPI|Cropping and othe...|  156|\n",
      "|   Farm Inputs - FPI|Cropping and othe...|  156|\n",
      "|   Farm Inputs - FPI|Dairy farms - Liv...|  156|\n",
      "|Capital Goods Pri...|Commercial Vehicl...|  168|\n",
      "|   Farm Inputs - FPI|Dairy farms - Ins...|  156|\n",
      "|   Farm Inputs - FPI|Dairy farms - All...|  116|\n",
      "|   Farm Inputs - FPI|Cropping and othe...|   32|\n",
      "|Capital Goods Pri...|      Farm Buildings|  168|\n",
      "|   Farm Inputs - FPI|Cropping and othe...|   32|\n",
      "|Capital Goods Pri...|Non-residential B...|  128|\n",
      "|   Farm Inputs - FPI|Horticulture and ...|  156|\n",
      "|Capital Goods Pri...|Irrigation and La...|  168|\n",
      "|   Farm Inputs - FPI|Sheep, beef, and ...|   32|\n",
      "|   Farm Inputs - FPI|Dairy farms - Fer...|   32|\n",
      "|   Farm Inputs - FPI|Cropping and othe...|  156|\n",
      "|   Farm Inputs - FPI|Poultry, deer, an...|   32|\n",
      "|Capital Goods Pri...|Office and accoun...|  100|\n",
      "|Capital Goods Pri...|Residential Build...|  128|\n",
      "|   Farm Inputs - FPI|Poultry, deer, an...|   32|\n",
      "+--------------------+--------------------+-----+\n",
      "only showing top 20 rows\n",
      "\n"
     ]
    }
   ],
   "source": [
    "df.groupBy('Subject','Series_Title_1').count().show()"
   ]
  },
  {
   "cell_type": "code",
   "execution_count": 184,
   "id": "216da81d",
   "metadata": {},
   "outputs": [],
   "source": [
    "import pyspark\n",
    "from pyspark.sql import SparkSession \n",
    "from pyspark.sql.functions import col, substring\n",
    "df.withColumn(\"Period\",col(\"Period\").cast(StringType()))\n",
    "df = df.withColumn('year', substring('Period', 1,4)).withColumn('month', substring('Period', 6,2))"
   ]
  },
  {
   "cell_type": "code",
   "execution_count": 185,
   "id": "e4cdf3d0",
   "metadata": {},
   "outputs": [
    {
     "name": "stdout",
     "output_type": "stream",
     "text": [
      "+----+-----+\n",
      "|year|month|\n",
      "+----+-----+\n",
      "|1996|   12|\n",
      "|1997|   03|\n",
      "|1997|   06|\n",
      "|1997|   09|\n",
      "|1997|   12|\n",
      "|1998|   03|\n",
      "|1998|   06|\n",
      "|1998|   09|\n",
      "|1998|   12|\n",
      "|1999|   03|\n",
      "|1999|   06|\n",
      "|1999|   09|\n",
      "|1999|   12|\n",
      "|2000|   03|\n",
      "|2000|   06|\n",
      "|2000|   09|\n",
      "|2000|   12|\n",
      "|2001|   03|\n",
      "|2001|   06|\n",
      "|2001|   09|\n",
      "+----+-----+\n",
      "only showing top 20 rows\n",
      "\n"
     ]
    }
   ],
   "source": [
    "df.select('year','month').show()"
   ]
  },
  {
   "cell_type": "code",
   "execution_count": 210,
   "id": "fcab2011",
   "metadata": {},
   "outputs": [],
   "source": [
    "df = df.withColumn(\"date\", expr(\"make_date(year, month, 15)\"))"
   ]
  },
  {
   "cell_type": "code",
   "execution_count": 211,
   "id": "91117040",
   "metadata": {},
   "outputs": [],
   "source": [
    "df1 = df.drop('Period')"
   ]
  },
  {
   "cell_type": "code",
   "execution_count": 212,
   "id": "04fa55f8",
   "metadata": {},
   "outputs": [],
   "source": [
    "df1 = df.drop('year','month')"
   ]
  },
  {
   "cell_type": "code",
   "execution_count": 213,
   "id": "a59258bf",
   "metadata": {},
   "outputs": [
    {
     "name": "stdout",
     "output_type": "stream",
     "text": [
      "+----------------+-------+----------+------+-----+--------------------+--------------------+--------------------+----------+\n",
      "|Series_reference| Period|Data_value|STATUS|UNITS|             Subject|               Group|      Series_title_1|      date|\n",
      "+----------------+-------+----------+------+-----+--------------------+--------------------+--------------------+----------+\n",
      "|      CEPQ.S2371|1996.12|     899.0| FINAL|Index|Capital Goods Pri...|Price Index by It...|Glass and glass p...|1996-12-15|\n",
      "|      CEPQ.S2371|1997.03|     884.0| FINAL|Index|Capital Goods Pri...|Price Index by It...|Glass and glass p...|1997-03-15|\n",
      "|      CEPQ.S2371|1997.06|     925.0| FINAL|Index|Capital Goods Pri...|Price Index by It...|Glass and glass p...|1997-06-15|\n",
      "|      CEPQ.S2371|1997.09|     932.0| FINAL|Index|Capital Goods Pri...|Price Index by It...|Glass and glass p...|1997-09-15|\n",
      "|      CEPQ.S2371|1997.12|     929.0| FINAL|Index|Capital Goods Pri...|Price Index by It...|Glass and glass p...|1997-12-15|\n",
      "|      CEPQ.S2371|1998.03|     940.0| FINAL|Index|Capital Goods Pri...|Price Index by It...|Glass and glass p...|1998-03-15|\n",
      "|      CEPQ.S2371|1998.06|     956.0| FINAL|Index|Capital Goods Pri...|Price Index by It...|Glass and glass p...|1998-06-15|\n",
      "|      CEPQ.S2371|1998.09|     958.0| FINAL|Index|Capital Goods Pri...|Price Index by It...|Glass and glass p...|1998-09-15|\n",
      "|      CEPQ.S2371|1998.12|     970.0| FINAL|Index|Capital Goods Pri...|Price Index by It...|Glass and glass p...|1998-12-15|\n",
      "|      CEPQ.S2371|1999.03|    1000.0| FINAL|Index|Capital Goods Pri...|Price Index by It...|Glass and glass p...|1999-03-15|\n",
      "|      CEPQ.S2371|1999.06|    1000.0| FINAL|Index|Capital Goods Pri...|Price Index by It...|Glass and glass p...|1999-06-15|\n",
      "|      CEPQ.S2371|1999.09|    1000.0| FINAL|Index|Capital Goods Pri...|Price Index by It...|Glass and glass p...|1999-09-15|\n",
      "|      CEPQ.S2371|1999.12|    1000.0| FINAL|Index|Capital Goods Pri...|Price Index by It...|Glass and glass p...|1999-12-15|\n",
      "|      CEPQ.S2371|2000.03|     949.0| FINAL|Index|Capital Goods Pri...|Price Index by It...|Glass and glass p...|2000-03-15|\n",
      "|      CEPQ.S2371|2000.06|     953.0| FINAL|Index|Capital Goods Pri...|Price Index by It...|Glass and glass p...|2000-06-15|\n",
      "|      CEPQ.S2371|2000.09|     964.0| FINAL|Index|Capital Goods Pri...|Price Index by It...|Glass and glass p...|2000-09-15|\n",
      "|      CEPQ.S2371|2000.12|     970.0| FINAL|Index|Capital Goods Pri...|Price Index by It...|Glass and glass p...|2000-12-15|\n",
      "|      CEPQ.S2371|2001.03|     970.0| FINAL|Index|Capital Goods Pri...|Price Index by It...|Glass and glass p...|2001-03-15|\n",
      "|      CEPQ.S2371|2001.06|     936.0| FINAL|Index|Capital Goods Pri...|Price Index by It...|Glass and glass p...|2001-06-15|\n",
      "|      CEPQ.S2371|2001.09|     936.0| FINAL|Index|Capital Goods Pri...|Price Index by It...|Glass and glass p...|2001-09-15|\n",
      "+----------------+-------+----------+------+-----+--------------------+--------------------+--------------------+----------+\n",
      "only showing top 20 rows\n",
      "\n"
     ]
    }
   ],
   "source": [
    "df1.show()\n"
   ]
  },
  {
   "cell_type": "code",
   "execution_count": 214,
   "id": "cd31856a",
   "metadata": {},
   "outputs": [
    {
     "name": "stdout",
     "output_type": "stream",
     "text": [
      "+----------+--------------------+--------------------+\n",
      "|      date|             Subject|      Series_Title_1|\n",
      "+----------+--------------------+--------------------+\n",
      "|1977-12-15|Producers Price I...|All Industries Ex...|\n",
      "|1977-12-15|Producers Price I...|      All Industries|\n",
      "|1977-12-15|Producers Price I...|      All Industries|\n",
      "|1978-03-15|Producers Price I...|All Industries Ex...|\n",
      "|1978-03-15|Producers Price I...|      All Industries|\n",
      "|1978-03-15|Producers Price I...|      All Industries|\n",
      "|1978-03-15|Producers Price I...|      All Industries|\n",
      "|1978-03-15|Producers Price I...|      All Industries|\n",
      "|1978-06-15|Producers Price I...|      All Industries|\n",
      "|1978-06-15|Producers Price I...|      All Industries|\n",
      "|1978-06-15|Producers Price I...|      All Industries|\n",
      "|1978-06-15|Producers Price I...|      All Industries|\n",
      "|1978-06-15|Producers Price I...|All Industries Ex...|\n",
      "|1978-09-15|Producers Price I...|      All Industries|\n",
      "|1978-09-15|Producers Price I...|      All Industries|\n",
      "|1978-09-15|Producers Price I...|      All Industries|\n",
      "|1978-09-15|Producers Price I...|All Industries Ex...|\n",
      "|1978-09-15|Producers Price I...|      All Industries|\n",
      "|1978-12-15|Producers Price I...|      All Industries|\n",
      "|1978-12-15|Producers Price I...|      All Industries|\n",
      "+----------+--------------------+--------------------+\n",
      "only showing top 20 rows\n",
      "\n"
     ]
    }
   ],
   "source": [
    "df1.select('date','Subject','Series_Title_1').orderBy(df1['date']).show()"
   ]
  },
  {
   "cell_type": "code",
   "execution_count": 215,
   "id": "54ddbcfa",
   "metadata": {},
   "outputs": [
    {
     "name": "stdout",
     "output_type": "stream",
     "text": [
      "+--------------------+--------------------+-----+\n",
      "|             Subject|      Series_Title_1|count|\n",
      "+--------------------+--------------------+-----+\n",
      "|   Farm Inputs - FPI|Horticulture and ...|  116|\n",
      "|   Farm Inputs - FPI|Cropping and othe...|  156|\n",
      "|   Farm Inputs - FPI|Cropping and othe...|  156|\n",
      "|   Farm Inputs - FPI|Dairy farms - Liv...|  156|\n",
      "|Capital Goods Pri...|Commercial Vehicl...|  168|\n",
      "|   Farm Inputs - FPI|Dairy farms - Ins...|  156|\n",
      "|   Farm Inputs - FPI|Dairy farms - All...|  116|\n",
      "|   Farm Inputs - FPI|Cropping and othe...|   32|\n",
      "|Capital Goods Pri...|      Farm Buildings|  168|\n",
      "|   Farm Inputs - FPI|Cropping and othe...|   32|\n",
      "|Capital Goods Pri...|Non-residential B...|  128|\n",
      "|   Farm Inputs - FPI|Horticulture and ...|  156|\n",
      "|Capital Goods Pri...|Irrigation and La...|  168|\n",
      "|   Farm Inputs - FPI|Sheep, beef, and ...|   32|\n",
      "|   Farm Inputs - FPI|Dairy farms - Fer...|   32|\n",
      "|   Farm Inputs - FPI|Cropping and othe...|  156|\n",
      "|   Farm Inputs - FPI|Poultry, deer, an...|   32|\n",
      "|Capital Goods Pri...|Office and accoun...|  100|\n",
      "|Capital Goods Pri...|Residential Build...|  128|\n",
      "|   Farm Inputs - FPI|Poultry, deer, an...|   32|\n",
      "+--------------------+--------------------+-----+\n",
      "only showing top 20 rows\n",
      "\n"
     ]
    }
   ],
   "source": [
    "df1.groupBy('Subject','Series_Title_1').count().show()"
   ]
  },
  {
   "cell_type": "code",
   "execution_count": 231,
   "id": "016d74ad",
   "metadata": {},
   "outputs": [
    {
     "name": "stdout",
     "output_type": "stream",
     "text": [
      "+--------------------+\n",
      "|             Subject|\n",
      "+--------------------+\n",
      "|Capital Goods Pri...|\n",
      "|   Farm Inputs - FPI|\n",
      "|Energy Statistics...|\n",
      "|Producers Price I...|\n",
      "+--------------------+\n",
      "\n"
     ]
    }
   ],
   "source": [
    "df1.select('Subject').distinct().show()"
   ]
  },
  {
   "cell_type": "code",
   "execution_count": 216,
   "id": "39919869",
   "metadata": {},
   "outputs": [
    {
     "name": "stdout",
     "output_type": "stream",
     "text": [
      "+----------------+-------+----------+------+-----+-----------------+--------------------+--------------------+----------+\n",
      "|Series_reference| Period|Data_value|STATUS|UNITS|          Subject|               Group|      Series_title_1|      date|\n",
      "+----------------+-------+----------+------+-----+-----------------+--------------------+--------------------+----------+\n",
      "|      FPIQ.SEA01|1982.12|273.204188| FINAL|Index|Farm Inputs - FPI|Farm expense pric...|Horticulture and ...|1982-12-15|\n",
      "|      FPIQ.SEA01|1983.03|274.570209| FINAL|Index|Farm Inputs - FPI|Farm expense pric...|Horticulture and ...|1983-03-15|\n",
      "|      FPIQ.SEA01|1983.06|275.663025| FINAL|Index|Farm Inputs - FPI|Farm expense pric...|Horticulture and ...|1983-06-15|\n",
      "|      FPIQ.SEA01|1983.09| 277.30225| FINAL|Index|Farm Inputs - FPI|Farm expense pric...|Horticulture and ...|1983-09-15|\n",
      "|      FPIQ.SEA01|1983.12|277.848659| FINAL|Index|Farm Inputs - FPI|Farm expense pric...|Horticulture and ...|1983-12-15|\n",
      "|      FPIQ.SEA01|1984.03|278.121864| FINAL|Index|Farm Inputs - FPI|Farm expense pric...|Horticulture and ...|1984-03-15|\n",
      "|      FPIQ.SEA01|1984.06|285.498376| FINAL|Index|Farm Inputs - FPI|Farm expense pric...|Horticulture and ...|1984-06-15|\n",
      "|      FPIQ.SEA01|1984.09|289.869643| FINAL|Index|Farm Inputs - FPI|Farm expense pric...|Horticulture and ...|1984-09-15|\n",
      "|      FPIQ.SEA01|1984.12|297.792565| FINAL|Index|Farm Inputs - FPI|Farm expense pric...|Horticulture and ...|1984-12-15|\n",
      "|      FPIQ.SEA01|1985.03|311.452774| FINAL|Index|Farm Inputs - FPI|Farm expense pric...|Horticulture and ...|1985-03-15|\n",
      "|      FPIQ.SEA01|1985.06|321.561329| FINAL|Index|Farm Inputs - FPI|Farm expense pric...|Horticulture and ...|1985-06-15|\n",
      "|      FPIQ.SEA01|1985.09|339.046397| FINAL|Index|Farm Inputs - FPI|Farm expense pric...|Horticulture and ...|1985-09-15|\n",
      "|      FPIQ.SEA01|1985.12|344.510481| FINAL|Index|Farm Inputs - FPI|Farm expense pric...|Horticulture and ...|1985-12-15|\n",
      "|      FPIQ.SEA01|1986.03|356.531465| FINAL|Index|Farm Inputs - FPI|Farm expense pric...|Horticulture and ...|1986-03-15|\n",
      "|      FPIQ.SEA01|1986.06|  384.9447| FINAL|Index|Farm Inputs - FPI|Farm expense pric...|Horticulture and ...|1986-06-15|\n",
      "|      FPIQ.SEA01|1986.09| 410.35269| FINAL|Index|Farm Inputs - FPI|Farm expense pric...|Horticulture and ...|1986-09-15|\n",
      "|      FPIQ.SEA01|1986.12| 415.54357| FINAL|Index|Farm Inputs - FPI|Farm expense pric...|Horticulture and ...|1986-12-15|\n",
      "|      FPIQ.SEA01|1987.03|429.203779| FINAL|Index|Farm Inputs - FPI|Farm expense pric...|Horticulture and ...|1987-03-15|\n",
      "|      FPIQ.SEA01|1987.06|448.054868| FINAL|Index|Farm Inputs - FPI|Farm expense pric...|Horticulture and ...|1987-06-15|\n",
      "|      FPIQ.SEA01|1987.09| 459.25624| FINAL|Index|Farm Inputs - FPI|Farm expense pric...|Horticulture and ...|1987-09-15|\n",
      "+----------------+-------+----------+------+-----+-----------------+--------------------+--------------------+----------+\n",
      "only showing top 20 rows\n",
      "\n"
     ]
    }
   ],
   "source": [
    "df1.filter((df1['Subject']=='Farm Inputs - FPI')&(df1['STATUS']=='FINAL')).show()"
   ]
  },
  {
   "cell_type": "code",
   "execution_count": 219,
   "id": "dd0ec455",
   "metadata": {},
   "outputs": [
    {
     "name": "stdout",
     "output_type": "stream",
     "text": [
      "+----------------+-------+----------+------+-----+--------------------+--------------------+--------------------+----------+\n",
      "|Series_reference| Period|Data_value|STATUS|UNITS|             Subject|               Group|      Series_title_1|      date|\n",
      "+----------------+-------+----------+------+-----+--------------------+--------------------+--------------------+----------+\n",
      "|      CEPQ.S2371|1996.12|     899.0| FINAL|Index|Capital Goods Pri...|Price Index by It...|Glass and glass p...|1996-12-15|\n",
      "|      CEPQ.S2371|1997.03|     884.0| FINAL|Index|Capital Goods Pri...|Price Index by It...|Glass and glass p...|1997-03-15|\n",
      "|      CEPQ.S2371|1997.06|     925.0| FINAL|Index|Capital Goods Pri...|Price Index by It...|Glass and glass p...|1997-06-15|\n",
      "|      CEPQ.S2371|1997.09|     932.0| FINAL|Index|Capital Goods Pri...|Price Index by It...|Glass and glass p...|1997-09-15|\n",
      "|      CEPQ.S2371|1997.12|     929.0| FINAL|Index|Capital Goods Pri...|Price Index by It...|Glass and glass p...|1997-12-15|\n",
      "|      CEPQ.S2371|1998.03|     940.0| FINAL|Index|Capital Goods Pri...|Price Index by It...|Glass and glass p...|1998-03-15|\n",
      "|      CEPQ.S2371|1998.06|     956.0| FINAL|Index|Capital Goods Pri...|Price Index by It...|Glass and glass p...|1998-06-15|\n",
      "|      CEPQ.S2371|1998.09|     958.0| FINAL|Index|Capital Goods Pri...|Price Index by It...|Glass and glass p...|1998-09-15|\n",
      "|      CEPQ.S2371|1998.12|     970.0| FINAL|Index|Capital Goods Pri...|Price Index by It...|Glass and glass p...|1998-12-15|\n",
      "|      CEPQ.S2371|1999.03|    1000.0| FINAL|Index|Capital Goods Pri...|Price Index by It...|Glass and glass p...|1999-03-15|\n",
      "|      CEPQ.S2371|1999.06|    1000.0| FINAL|Index|Capital Goods Pri...|Price Index by It...|Glass and glass p...|1999-06-15|\n",
      "|      CEPQ.S2371|1999.09|    1000.0| FINAL|Index|Capital Goods Pri...|Price Index by It...|Glass and glass p...|1999-09-15|\n",
      "|      CEPQ.S2371|1999.12|    1000.0| FINAL|Index|Capital Goods Pri...|Price Index by It...|Glass and glass p...|1999-12-15|\n",
      "|      CEPQ.S2371|2000.03|     949.0| FINAL|Index|Capital Goods Pri...|Price Index by It...|Glass and glass p...|2000-03-15|\n",
      "|      CEPQ.S2371|2000.06|     953.0| FINAL|Index|Capital Goods Pri...|Price Index by It...|Glass and glass p...|2000-06-15|\n",
      "|      CEPQ.S2371|2000.09|     964.0| FINAL|Index|Capital Goods Pri...|Price Index by It...|Glass and glass p...|2000-09-15|\n",
      "|      CEPQ.S2371|2000.12|     970.0| FINAL|Index|Capital Goods Pri...|Price Index by It...|Glass and glass p...|2000-12-15|\n",
      "|      CEPQ.S2371|2001.03|     970.0| FINAL|Index|Capital Goods Pri...|Price Index by It...|Glass and glass p...|2001-03-15|\n",
      "|      CEPQ.S2371|2001.06|     936.0| FINAL|Index|Capital Goods Pri...|Price Index by It...|Glass and glass p...|2001-06-15|\n",
      "|      CEPQ.S2371|2001.09|     936.0| FINAL|Index|Capital Goods Pri...|Price Index by It...|Glass and glass p...|2001-09-15|\n",
      "+----------------+-------+----------+------+-----+--------------------+--------------------+--------------------+----------+\n",
      "only showing top 20 rows\n",
      "\n"
     ]
    }
   ],
   "source": [
    "df1.na.fill({'STATUS':'Not Ready'}).show()"
   ]
  },
  {
   "cell_type": "code",
   "execution_count": 221,
   "id": "747b38e1",
   "metadata": {},
   "outputs": [
    {
     "name": "stdout",
     "output_type": "stream",
     "text": [
      "+----------------+------+----------+------+-----+-------+-----+--------------+----+\n",
      "|Series_reference|Period|Data_value|STATUS|UNITS|Subject|Group|Series_title_1|date|\n",
      "+----------------+------+----------+------+-----+-------+-----+--------------+----+\n",
      "+----------------+------+----------+------+-----+-------+-----+--------------+----+\n",
      "\n"
     ]
    }
   ],
   "source": [
    "df1.filter((df1['STATUS']=='Not Ready')).show()"
   ]
  },
  {
   "cell_type": "code",
   "execution_count": 245,
   "id": "8570356f",
   "metadata": {},
   "outputs": [
    {
     "name": "stdout",
     "output_type": "stream",
     "text": [
      "+----------------+-------+----------+------+-----+--------------------+--------------------+--------------------+----------+\n",
      "|Series_reference| Period|Data_value|STATUS|UNITS|             Subject|               Group|      Series_title_1|      date|\n",
      "+----------------+-------+----------+------+-----+--------------------+--------------------+--------------------+----------+\n",
      "|      CEPQ.S2371|1996.12|     899.0| FINAL|Index|Capital Goods Pri...|Price Index by It...|Glass and glass p...|1996-12-15|\n",
      "|      CEPQ.S2371|1997.03|     884.0| FINAL|Index|Capital Goods Pri...|Price Index by It...|Glass and glass p...|1997-03-15|\n",
      "|      CEPQ.S2371|1997.06|     925.0| FINAL|Index|Capital Goods Pri...|Price Index by It...|Glass and glass p...|1997-06-15|\n",
      "|      CEPQ.S2371|1997.09|     932.0| FINAL|Index|Capital Goods Pri...|Price Index by It...|Glass and glass p...|1997-09-15|\n",
      "|      CEPQ.S2371|1997.12|     929.0| FINAL|Index|Capital Goods Pri...|Price Index by It...|Glass and glass p...|1997-12-15|\n",
      "|      CEPQ.S2371|1998.03|     940.0| FINAL|Index|Capital Goods Pri...|Price Index by It...|Glass and glass p...|1998-03-15|\n",
      "|      CEPQ.S2371|1998.06|     956.0| FINAL|Index|Capital Goods Pri...|Price Index by It...|Glass and glass p...|1998-06-15|\n",
      "|      CEPQ.S2371|1998.09|     958.0| FINAL|Index|Capital Goods Pri...|Price Index by It...|Glass and glass p...|1998-09-15|\n",
      "|      CEPQ.S2371|1998.12|     970.0| FINAL|Index|Capital Goods Pri...|Price Index by It...|Glass and glass p...|1998-12-15|\n",
      "|      CEPQ.S2371|1999.03|    1000.0| FINAL|Index|Capital Goods Pri...|Price Index by It...|Glass and glass p...|1999-03-15|\n",
      "|      CEPQ.S2371|1999.06|    1000.0| FINAL|Index|Capital Goods Pri...|Price Index by It...|Glass and glass p...|1999-06-15|\n",
      "|      CEPQ.S2371|1999.09|    1000.0| FINAL|Index|Capital Goods Pri...|Price Index by It...|Glass and glass p...|1999-09-15|\n",
      "|      CEPQ.S2371|1999.12|    1000.0| FINAL|Index|Capital Goods Pri...|Price Index by It...|Glass and glass p...|1999-12-15|\n",
      "|      CEPQ.S2371|2000.03|     949.0| FINAL|Index|Capital Goods Pri...|Price Index by It...|Glass and glass p...|2000-03-15|\n",
      "|      CEPQ.S2371|2000.06|     953.0| FINAL|Index|Capital Goods Pri...|Price Index by It...|Glass and glass p...|2000-06-15|\n",
      "|      CEPQ.S2371|2000.09|     964.0| FINAL|Index|Capital Goods Pri...|Price Index by It...|Glass and glass p...|2000-09-15|\n",
      "|      CEPQ.S2371|2000.12|     970.0| FINAL|Index|Capital Goods Pri...|Price Index by It...|Glass and glass p...|2000-12-15|\n",
      "|      CEPQ.S2371|2001.03|     970.0| FINAL|Index|Capital Goods Pri...|Price Index by It...|Glass and glass p...|2001-03-15|\n",
      "|      CEPQ.S2371|2001.06|     936.0| FINAL|Index|Capital Goods Pri...|Price Index by It...|Glass and glass p...|2001-06-15|\n",
      "|      CEPQ.S2371|2001.09|     936.0| FINAL|Index|Capital Goods Pri...|Price Index by It...|Glass and glass p...|2001-09-15|\n",
      "+----------------+-------+----------+------+-----+--------------------+--------------------+--------------------+----------+\n",
      "only showing top 20 rows\n",
      "\n"
     ]
    }
   ],
   "source": [
    "df1.na.fill({'Data_value':0.0}).show()"
   ]
  },
  {
   "cell_type": "code",
   "execution_count": 237,
   "id": "b024810a",
   "metadata": {},
   "outputs": [],
   "source": [
    "import pandas as pd\n",
    "from pyspark import SparkContext\n",
    "from pyspark.sql import SQLContext\n",
    "from pyspark.sql.types import *"
   ]
  },
  {
   "cell_type": "code",
   "execution_count": 238,
   "id": "9e59600d",
   "metadata": {},
   "outputs": [
    {
     "name": "stderr",
     "output_type": "stream",
     "text": [
      "C:\\Users\\acayiray\\Anaconda3\\lib\\site-packages\\IPython\\core\\interactiveshell.py:3444: DtypeWarning: Columns (8) have mixed types.Specify dtype option on import or set low_memory=False.\n",
      "  exec(code_obj, self.user_global_ns, self.user_ns)\n"
     ]
    }
   ],
   "source": [
    "pd_df = pd.read_csv(\"business-price-indexes-september-2021-quarter-csv.csv\")"
   ]
  },
  {
   "cell_type": "code",
   "execution_count": 243,
   "id": "92065b94",
   "metadata": {},
   "outputs": [
    {
     "data": {
      "text/html": [
       "<div>\n",
       "<style scoped>\n",
       "    .dataframe tbody tr th:only-of-type {\n",
       "        vertical-align: middle;\n",
       "    }\n",
       "\n",
       "    .dataframe tbody tr th {\n",
       "        vertical-align: top;\n",
       "    }\n",
       "\n",
       "    .dataframe thead th {\n",
       "        text-align: right;\n",
       "    }\n",
       "</style>\n",
       "<table border=\"1\" class=\"dataframe\">\n",
       "  <thead>\n",
       "    <tr style=\"text-align: right;\">\n",
       "      <th></th>\n",
       "      <th>Series_reference</th>\n",
       "      <th>Period</th>\n",
       "      <th>Data_value</th>\n",
       "      <th>STATUS</th>\n",
       "      <th>UNITS</th>\n",
       "      <th>Subject</th>\n",
       "      <th>Group</th>\n",
       "      <th>Series_title_1</th>\n",
       "      <th>Series_title_2</th>\n",
       "      <th>Series_title_3</th>\n",
       "      <th>Series_title_4</th>\n",
       "      <th>Series_title_5</th>\n",
       "    </tr>\n",
       "  </thead>\n",
       "  <tbody>\n",
       "    <tr>\n",
       "      <th>0</th>\n",
       "      <td>CEPQ.S2371</td>\n",
       "      <td>1996.12</td>\n",
       "      <td>899.0</td>\n",
       "      <td>FINAL</td>\n",
       "      <td>Index</td>\n",
       "      <td>Capital Goods Price Index - CEP</td>\n",
       "      <td>Price Index by Item - Plant, Machinery and Equ...</td>\n",
       "      <td>Glass and glass products</td>\n",
       "      <td>NaN</td>\n",
       "      <td>NaN</td>\n",
       "      <td>NaN</td>\n",
       "      <td>NaN</td>\n",
       "    </tr>\n",
       "    <tr>\n",
       "      <th>1</th>\n",
       "      <td>CEPQ.S2371</td>\n",
       "      <td>1997.03</td>\n",
       "      <td>884.0</td>\n",
       "      <td>FINAL</td>\n",
       "      <td>Index</td>\n",
       "      <td>Capital Goods Price Index - CEP</td>\n",
       "      <td>Price Index by Item - Plant, Machinery and Equ...</td>\n",
       "      <td>Glass and glass products</td>\n",
       "      <td>NaN</td>\n",
       "      <td>NaN</td>\n",
       "      <td>NaN</td>\n",
       "      <td>NaN</td>\n",
       "    </tr>\n",
       "    <tr>\n",
       "      <th>2</th>\n",
       "      <td>CEPQ.S2371</td>\n",
       "      <td>1997.06</td>\n",
       "      <td>925.0</td>\n",
       "      <td>FINAL</td>\n",
       "      <td>Index</td>\n",
       "      <td>Capital Goods Price Index - CEP</td>\n",
       "      <td>Price Index by Item - Plant, Machinery and Equ...</td>\n",
       "      <td>Glass and glass products</td>\n",
       "      <td>NaN</td>\n",
       "      <td>NaN</td>\n",
       "      <td>NaN</td>\n",
       "      <td>NaN</td>\n",
       "    </tr>\n",
       "    <tr>\n",
       "      <th>3</th>\n",
       "      <td>CEPQ.S2371</td>\n",
       "      <td>1997.09</td>\n",
       "      <td>932.0</td>\n",
       "      <td>FINAL</td>\n",
       "      <td>Index</td>\n",
       "      <td>Capital Goods Price Index - CEP</td>\n",
       "      <td>Price Index by Item - Plant, Machinery and Equ...</td>\n",
       "      <td>Glass and glass products</td>\n",
       "      <td>NaN</td>\n",
       "      <td>NaN</td>\n",
       "      <td>NaN</td>\n",
       "      <td>NaN</td>\n",
       "    </tr>\n",
       "    <tr>\n",
       "      <th>4</th>\n",
       "      <td>CEPQ.S2371</td>\n",
       "      <td>1997.12</td>\n",
       "      <td>929.0</td>\n",
       "      <td>FINAL</td>\n",
       "      <td>Index</td>\n",
       "      <td>Capital Goods Price Index - CEP</td>\n",
       "      <td>Price Index by Item - Plant, Machinery and Equ...</td>\n",
       "      <td>Glass and glass products</td>\n",
       "      <td>NaN</td>\n",
       "      <td>NaN</td>\n",
       "      <td>NaN</td>\n",
       "      <td>NaN</td>\n",
       "    </tr>\n",
       "    <tr>\n",
       "      <th>...</th>\n",
       "      <td>...</td>\n",
       "      <td>...</td>\n",
       "      <td>...</td>\n",
       "      <td>...</td>\n",
       "      <td>...</td>\n",
       "      <td>...</td>\n",
       "      <td>...</td>\n",
       "      <td>...</td>\n",
       "      <td>...</td>\n",
       "      <td>...</td>\n",
       "      <td>...</td>\n",
       "      <td>...</td>\n",
       "    </tr>\n",
       "    <tr>\n",
       "      <th>71189</th>\n",
       "      <td>PPIQ.SQURS2110</td>\n",
       "      <td>2020.09</td>\n",
       "      <td>1315.0</td>\n",
       "      <td>FINAL</td>\n",
       "      <td>Index</td>\n",
       "      <td>Producers Price Index - PPI</td>\n",
       "      <td>Outputs (ANZSIC06) - NZSIOC level 4, Base: Dec...</td>\n",
       "      <td>Repair and Maintenance</td>\n",
       "      <td>NaN</td>\n",
       "      <td>NaN</td>\n",
       "      <td>NaN</td>\n",
       "      <td>NaN</td>\n",
       "    </tr>\n",
       "    <tr>\n",
       "      <th>71190</th>\n",
       "      <td>PPIQ.SQURS2110</td>\n",
       "      <td>2020.12</td>\n",
       "      <td>1310.0</td>\n",
       "      <td>FINAL</td>\n",
       "      <td>Index</td>\n",
       "      <td>Producers Price Index - PPI</td>\n",
       "      <td>Outputs (ANZSIC06) - NZSIOC level 4, Base: Dec...</td>\n",
       "      <td>Repair and Maintenance</td>\n",
       "      <td>NaN</td>\n",
       "      <td>NaN</td>\n",
       "      <td>NaN</td>\n",
       "      <td>NaN</td>\n",
       "    </tr>\n",
       "    <tr>\n",
       "      <th>71191</th>\n",
       "      <td>PPIQ.SQURS2110</td>\n",
       "      <td>2021.03</td>\n",
       "      <td>1296.0</td>\n",
       "      <td>FINAL</td>\n",
       "      <td>Index</td>\n",
       "      <td>Producers Price Index - PPI</td>\n",
       "      <td>Outputs (ANZSIC06) - NZSIOC level 4, Base: Dec...</td>\n",
       "      <td>Repair and Maintenance</td>\n",
       "      <td>NaN</td>\n",
       "      <td>NaN</td>\n",
       "      <td>NaN</td>\n",
       "      <td>NaN</td>\n",
       "    </tr>\n",
       "    <tr>\n",
       "      <th>71192</th>\n",
       "      <td>PPIQ.SQURS2110</td>\n",
       "      <td>2021.06</td>\n",
       "      <td>1303.0</td>\n",
       "      <td>FINAL</td>\n",
       "      <td>Index</td>\n",
       "      <td>Producers Price Index - PPI</td>\n",
       "      <td>Outputs (ANZSIC06) - NZSIOC level 4, Base: Dec...</td>\n",
       "      <td>Repair and Maintenance</td>\n",
       "      <td>NaN</td>\n",
       "      <td>NaN</td>\n",
       "      <td>NaN</td>\n",
       "      <td>NaN</td>\n",
       "    </tr>\n",
       "    <tr>\n",
       "      <th>71193</th>\n",
       "      <td>PPIQ.SQURS2110</td>\n",
       "      <td>2021.09</td>\n",
       "      <td>1328.0</td>\n",
       "      <td>FINAL</td>\n",
       "      <td>Index</td>\n",
       "      <td>Producers Price Index - PPI</td>\n",
       "      <td>Outputs (ANZSIC06) - NZSIOC level 4, Base: Dec...</td>\n",
       "      <td>Repair and Maintenance</td>\n",
       "      <td>NaN</td>\n",
       "      <td>NaN</td>\n",
       "      <td>NaN</td>\n",
       "      <td>NaN</td>\n",
       "    </tr>\n",
       "  </tbody>\n",
       "</table>\n",
       "<p>71194 rows × 12 columns</p>\n",
       "</div>"
      ],
      "text/plain": [
       "      Series_reference   Period  Data_value STATUS  UNITS  \\\n",
       "0           CEPQ.S2371  1996.12       899.0  FINAL  Index   \n",
       "1           CEPQ.S2371  1997.03       884.0  FINAL  Index   \n",
       "2           CEPQ.S2371  1997.06       925.0  FINAL  Index   \n",
       "3           CEPQ.S2371  1997.09       932.0  FINAL  Index   \n",
       "4           CEPQ.S2371  1997.12       929.0  FINAL  Index   \n",
       "...                ...      ...         ...    ...    ...   \n",
       "71189   PPIQ.SQURS2110  2020.09      1315.0  FINAL  Index   \n",
       "71190   PPIQ.SQURS2110  2020.12      1310.0  FINAL  Index   \n",
       "71191   PPIQ.SQURS2110  2021.03      1296.0  FINAL  Index   \n",
       "71192   PPIQ.SQURS2110  2021.06      1303.0  FINAL  Index   \n",
       "71193   PPIQ.SQURS2110  2021.09      1328.0  FINAL  Index   \n",
       "\n",
       "                               Subject  \\\n",
       "0      Capital Goods Price Index - CEP   \n",
       "1      Capital Goods Price Index - CEP   \n",
       "2      Capital Goods Price Index - CEP   \n",
       "3      Capital Goods Price Index - CEP   \n",
       "4      Capital Goods Price Index - CEP   \n",
       "...                                ...   \n",
       "71189      Producers Price Index - PPI   \n",
       "71190      Producers Price Index - PPI   \n",
       "71191      Producers Price Index - PPI   \n",
       "71192      Producers Price Index - PPI   \n",
       "71193      Producers Price Index - PPI   \n",
       "\n",
       "                                                   Group  \\\n",
       "0      Price Index by Item - Plant, Machinery and Equ...   \n",
       "1      Price Index by Item - Plant, Machinery and Equ...   \n",
       "2      Price Index by Item - Plant, Machinery and Equ...   \n",
       "3      Price Index by Item - Plant, Machinery and Equ...   \n",
       "4      Price Index by Item - Plant, Machinery and Equ...   \n",
       "...                                                  ...   \n",
       "71189  Outputs (ANZSIC06) - NZSIOC level 4, Base: Dec...   \n",
       "71190  Outputs (ANZSIC06) - NZSIOC level 4, Base: Dec...   \n",
       "71191  Outputs (ANZSIC06) - NZSIOC level 4, Base: Dec...   \n",
       "71192  Outputs (ANZSIC06) - NZSIOC level 4, Base: Dec...   \n",
       "71193  Outputs (ANZSIC06) - NZSIOC level 4, Base: Dec...   \n",
       "\n",
       "                 Series_title_1 Series_title_2  Series_title_3  \\\n",
       "0      Glass and glass products            NaN             NaN   \n",
       "1      Glass and glass products            NaN             NaN   \n",
       "2      Glass and glass products            NaN             NaN   \n",
       "3      Glass and glass products            NaN             NaN   \n",
       "4      Glass and glass products            NaN             NaN   \n",
       "...                         ...            ...             ...   \n",
       "71189    Repair and Maintenance            NaN             NaN   \n",
       "71190    Repair and Maintenance            NaN             NaN   \n",
       "71191    Repair and Maintenance            NaN             NaN   \n",
       "71192    Repair and Maintenance            NaN             NaN   \n",
       "71193    Repair and Maintenance            NaN             NaN   \n",
       "\n",
       "       Series_title_4  Series_title_5  \n",
       "0                 NaN             NaN  \n",
       "1                 NaN             NaN  \n",
       "2                 NaN             NaN  \n",
       "3                 NaN             NaN  \n",
       "4                 NaN             NaN  \n",
       "...               ...             ...  \n",
       "71189             NaN             NaN  \n",
       "71190             NaN             NaN  \n",
       "71191             NaN             NaN  \n",
       "71192             NaN             NaN  \n",
       "71193             NaN             NaN  \n",
       "\n",
       "[71194 rows x 12 columns]"
      ]
     },
     "execution_count": 243,
     "metadata": {},
     "output_type": "execute_result"
    }
   ],
   "source": [
    "pd_df"
   ]
  },
  {
   "cell_type": "code",
   "execution_count": 244,
   "id": "69af66e9",
   "metadata": {},
   "outputs": [
    {
     "name": "stdout",
     "output_type": "stream",
     "text": [
      "<class 'pandas.core.frame.DataFrame'>\n",
      "RangeIndex: 71194 entries, 0 to 71193\n",
      "Data columns (total 12 columns):\n",
      " #   Column            Non-Null Count  Dtype  \n",
      "---  ------            --------------  -----  \n",
      " 0   Series_reference  71194 non-null  object \n",
      " 1   Period            71194 non-null  float64\n",
      " 2   Data_value        70794 non-null  float64\n",
      " 3   STATUS            71194 non-null  object \n",
      " 4   UNITS             71194 non-null  object \n",
      " 5   Subject           71194 non-null  object \n",
      " 6   Group             71194 non-null  object \n",
      " 7   Series_title_1    71194 non-null  object \n",
      " 8   Series_title_2    945 non-null    object \n",
      " 9   Series_title_3    0 non-null      float64\n",
      " 10  Series_title_4    0 non-null      float64\n",
      " 11  Series_title_5    0 non-null      float64\n",
      "dtypes: float64(5), object(7)\n",
      "memory usage: 6.5+ MB\n"
     ]
    }
   ],
   "source": [
    "pd_df.info()"
   ]
  },
  {
   "cell_type": "code",
   "execution_count": 247,
   "id": "a723a6f2",
   "metadata": {},
   "outputs": [],
   "source": [
    "#pd_df = pd_df.na.fill({'Data_value':0.0})\n",
    "pd_df.Data_value =pd_df.Data_value.astype(float)"
   ]
  },
  {
   "cell_type": "code",
   "execution_count": 249,
   "id": "e3a01c43",
   "metadata": {},
   "outputs": [],
   "source": [
    "pd_df.Series_title_2  =pd_df.Data_value.astype(str)"
   ]
  },
  {
   "cell_type": "code",
   "execution_count": 250,
   "id": "958106bc",
   "metadata": {},
   "outputs": [],
   "source": [
    "spark_df  = spark.createDataFrame(pd_df)"
   ]
  },
  {
   "cell_type": "code",
   "execution_count": 251,
   "id": "e5271569",
   "metadata": {},
   "outputs": [
    {
     "name": "stdout",
     "output_type": "stream",
     "text": [
      "+----------------+-------+----------+------+-----+--------------------+--------------------+--------------------+--------------+--------------+--------------+--------------+\n",
      "|Series_reference| Period|Data_value|STATUS|UNITS|             Subject|               Group|      Series_title_1|Series_title_2|Series_title_3|Series_title_4|Series_title_5|\n",
      "+----------------+-------+----------+------+-----+--------------------+--------------------+--------------------+--------------+--------------+--------------+--------------+\n",
      "|      CEPQ.S2371|1996.12|     899.0| FINAL|Index|Capital Goods Pri...|Price Index by It...|Glass and glass p...|         899.0|           NaN|           NaN|           NaN|\n",
      "|      CEPQ.S2371|1997.03|     884.0| FINAL|Index|Capital Goods Pri...|Price Index by It...|Glass and glass p...|         884.0|           NaN|           NaN|           NaN|\n",
      "|      CEPQ.S2371|1997.06|     925.0| FINAL|Index|Capital Goods Pri...|Price Index by It...|Glass and glass p...|         925.0|           NaN|           NaN|           NaN|\n",
      "|      CEPQ.S2371|1997.09|     932.0| FINAL|Index|Capital Goods Pri...|Price Index by It...|Glass and glass p...|         932.0|           NaN|           NaN|           NaN|\n",
      "|      CEPQ.S2371|1997.12|     929.0| FINAL|Index|Capital Goods Pri...|Price Index by It...|Glass and glass p...|         929.0|           NaN|           NaN|           NaN|\n",
      "|      CEPQ.S2371|1998.03|     940.0| FINAL|Index|Capital Goods Pri...|Price Index by It...|Glass and glass p...|         940.0|           NaN|           NaN|           NaN|\n",
      "|      CEPQ.S2371|1998.06|     956.0| FINAL|Index|Capital Goods Pri...|Price Index by It...|Glass and glass p...|         956.0|           NaN|           NaN|           NaN|\n",
      "|      CEPQ.S2371|1998.09|     958.0| FINAL|Index|Capital Goods Pri...|Price Index by It...|Glass and glass p...|         958.0|           NaN|           NaN|           NaN|\n",
      "|      CEPQ.S2371|1998.12|     970.0| FINAL|Index|Capital Goods Pri...|Price Index by It...|Glass and glass p...|         970.0|           NaN|           NaN|           NaN|\n",
      "|      CEPQ.S2371|1999.03|    1000.0| FINAL|Index|Capital Goods Pri...|Price Index by It...|Glass and glass p...|        1000.0|           NaN|           NaN|           NaN|\n",
      "|      CEPQ.S2371|1999.06|    1000.0| FINAL|Index|Capital Goods Pri...|Price Index by It...|Glass and glass p...|        1000.0|           NaN|           NaN|           NaN|\n",
      "|      CEPQ.S2371|1999.09|    1000.0| FINAL|Index|Capital Goods Pri...|Price Index by It...|Glass and glass p...|        1000.0|           NaN|           NaN|           NaN|\n",
      "|      CEPQ.S2371|1999.12|    1000.0| FINAL|Index|Capital Goods Pri...|Price Index by It...|Glass and glass p...|        1000.0|           NaN|           NaN|           NaN|\n",
      "|      CEPQ.S2371|2000.03|     949.0| FINAL|Index|Capital Goods Pri...|Price Index by It...|Glass and glass p...|         949.0|           NaN|           NaN|           NaN|\n",
      "|      CEPQ.S2371|2000.06|     953.0| FINAL|Index|Capital Goods Pri...|Price Index by It...|Glass and glass p...|         953.0|           NaN|           NaN|           NaN|\n",
      "|      CEPQ.S2371|2000.09|     964.0| FINAL|Index|Capital Goods Pri...|Price Index by It...|Glass and glass p...|         964.0|           NaN|           NaN|           NaN|\n",
      "|      CEPQ.S2371|2000.12|     970.0| FINAL|Index|Capital Goods Pri...|Price Index by It...|Glass and glass p...|         970.0|           NaN|           NaN|           NaN|\n",
      "|      CEPQ.S2371|2001.03|     970.0| FINAL|Index|Capital Goods Pri...|Price Index by It...|Glass and glass p...|         970.0|           NaN|           NaN|           NaN|\n",
      "|      CEPQ.S2371|2001.06|     936.0| FINAL|Index|Capital Goods Pri...|Price Index by It...|Glass and glass p...|         936.0|           NaN|           NaN|           NaN|\n",
      "|      CEPQ.S2371|2001.09|     936.0| FINAL|Index|Capital Goods Pri...|Price Index by It...|Glass and glass p...|         936.0|           NaN|           NaN|           NaN|\n",
      "+----------------+-------+----------+------+-----+--------------------+--------------------+--------------------+--------------+--------------+--------------+--------------+\n",
      "only showing top 20 rows\n",
      "\n"
     ]
    }
   ],
   "source": [
    "spark_df.show()"
   ]
  },
  {
   "cell_type": "code",
   "execution_count": 252,
   "id": "0449c292",
   "metadata": {},
   "outputs": [],
   "source": [
    "spark_df = df.drop(\"Series_title_3\",\"Series_title_4\",\"Series_title_5\")"
   ]
  },
  {
   "cell_type": "code",
   "execution_count": 253,
   "id": "624ea398",
   "metadata": {},
   "outputs": [
    {
     "name": "stdout",
     "output_type": "stream",
     "text": [
      "+----------+--------------------+-----------+---------+-----+--------------+--------+------+--------+--------------------+\n",
      "|   imdb_id|               title|certificate|startYear| type|origin_country|language|rating|numVotes|              genres|\n",
      "+----------+--------------------+-----------+---------+-----+--------------+--------+------+--------+--------------------+\n",
      "| tt0993840|    Army of the Dead|         18|     2021|movie| United States| English|   5.8|110780.0| Action,Crime,Horror|\n",
      "| tt6111574|The Woman in the ...|         18|     2021|movie| United States| English|   5.7| 46703.0| Crime,Drama,Mystery|\n",
      "| tt7979580|The Mitchells vs ...|         13|     2021|movie| United States| English|   7.8| 55762.0|Adventure,Animati...|\n",
      "| tt7084386|        Blue Miracle|         13|     2021|movie| United States| English|   6.7|  2962.0|Adventure,Biograp...|\n",
      "|tt10962368| Things Heard & Seen|         16|     2021|movie| United States| English|   5.3| 20762.0|Drama,Horror,Mystery|\n",
      "| tt9203694|            Stowaway|         13|     2021|movie|       Germany| English|   5.6| 33501.0|Drama,Sci-Fi,Thri...|\n",
      "|tt11286314|       Don't Look Up|       null|     2021|movie| United States| English|  null|    null|              Comedy|\n",
      "| tt9013182|      I Am All Girls|         16|     2021|movie|  South Africa| English|   5.8|  3283.0| Crime,Drama,Mystery|\n",
      "| tt9848626|Hotel Transylvani...|       null|     2021|movie| United States| English|  null|    null|Adventure,Animati...|\n",
      "| tt3661210|             The Dig|         16|     2021|movie|United Kingdom| English|   7.1| 56763.0|Biography,Drama,H...|\n",
      "|tt10121392|       Thunder Force|         13|     2021|movie| United States| English|   4.4| 33506.0|Action,Adventure,...|\n",
      "| tt3758814|        The Ice Road|      PG-13|     2021|movie| United States| English|  null|    null|            Thriller|\n",
      "| tt8368408| Gunpowder Milkshake|          R|     2021|movie|        France| English|  null|    null|Action,Adventure,...|\n",
      "| tt6566576|         Fear Street|       null|     2021|movie| United States| English|  null|    null|      Horror,Mystery|\n",
      "|tt12939812|      The Nailbomber|       null|     2021|movie|United Kingdom| English|   6.3|  1107.0|Crime,Documentary...|\n",
      "|tt10418662|               Awake|         18|     2021|movie| United States| English|   4.8|  2846.0|Action,Adventure,...|\n",
      "| tt6432466|               Moxie|         13|     2021|movie| United States| English|   6.7| 18962.0|  Comedy,Drama,Music|\n",
      "| tt8521876|             Yes Day|          7|     2021|movie| United States| English|   5.7| 17536.0|       Comedy,Family|\n",
      "| tt6733874|America: The Moti...|       null|     2021|movie| United States| English|  null|    null|Action,Adventure,...|\n",
      "|tt10451914|    Outside the Wire|         18|     2021|movie|       Hungary| English|   5.4| 35882.0|Action,Adventure,...|\n",
      "+----------+--------------------+-----------+---------+-----+--------------+--------+------+--------+--------------------+\n",
      "only showing top 20 rows\n",
      "\n"
     ]
    }
   ],
   "source": [
    "spark_df.show()"
   ]
  },
  {
   "cell_type": "code",
   "execution_count": null,
   "id": "3b6d2094",
   "metadata": {},
   "outputs": [],
   "source": []
  }
 ],
 "metadata": {
  "kernelspec": {
   "display_name": "Python 3 (ipykernel)",
   "language": "python",
   "name": "python3"
  },
  "language_info": {
   "codemirror_mode": {
    "name": "ipython",
    "version": 3
   },
   "file_extension": ".py",
   "mimetype": "text/x-python",
   "name": "python",
   "nbconvert_exporter": "python",
   "pygments_lexer": "ipython3",
   "version": "3.9.7"
  }
 },
 "nbformat": 4,
 "nbformat_minor": 5
}
