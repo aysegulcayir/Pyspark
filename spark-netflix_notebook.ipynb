{
 "cells": [
  {
   "cell_type": "code",
   "execution_count": 20,
   "id": "9e50f793",
   "metadata": {},
   "outputs": [],
   "source": [
    "import findspark\n",
    "findspark.init()\n",
    "import pyspark\n",
    "from pyspark.sql import SparkSession\n",
    "spark = SparkSession.builder.getOrCreate()\n",
    "df = spark.read.format(\"csv\").option(\"inferschema\",\"True\").option(\"header\",\"True\").option(\"sep\",\",\").load(\"netflix_list.csv\")"
   ]
  },
  {
   "cell_type": "code",
   "execution_count": 2,
   "id": "219c627d",
   "metadata": {},
   "outputs": [
    {
     "data": {
      "text/plain": [
       "DataFrame[imdb_id: string, title: string, certificate: string, startYear: int, type: string, origin_country: string, language: string, rating: double, numVotes: double, genres: string]"
      ]
     },
     "metadata": {},
     "output_type": "display_data"
    }
   ],
   "source": [
    "display(df)"
   ]
  },
  {
   "cell_type": "code",
   "execution_count": 3,
   "id": "daba4f34",
   "metadata": {},
   "outputs": [
    {
     "name": "stdout",
     "output_type": "stream",
     "text": [
      "+----------+--------------------+-----------+---------+-----+--------------+--------+------+--------+--------------------+\n",
      "|   imdb_id|               title|certificate|startYear| type|origin_country|language|rating|numVotes|              genres|\n",
      "+----------+--------------------+-----------+---------+-----+--------------+--------+------+--------+--------------------+\n",
      "| tt0993840|    Army of the Dead|         18|     2021|movie| United States| English|   5.8|110780.0| Action,Crime,Horror|\n",
      "| tt6111574|The Woman in the ...|         18|     2021|movie| United States| English|   5.7| 46703.0| Crime,Drama,Mystery|\n",
      "| tt7979580|The Mitchells vs ...|         13|     2021|movie| United States| English|   7.8| 55762.0|Adventure,Animati...|\n",
      "| tt7084386|        Blue Miracle|         13|     2021|movie| United States| English|   6.7|  2962.0|Adventure,Biograp...|\n",
      "|tt10962368| Things Heard & Seen|         16|     2021|movie| United States| English|   5.3| 20762.0|Drama,Horror,Mystery|\n",
      "+----------+--------------------+-----------+---------+-----+--------------+--------+------+--------+--------------------+\n",
      "only showing top 5 rows\n",
      "\n"
     ]
    }
   ],
   "source": [
    "df.show(5)"
   ]
  },
  {
   "cell_type": "code",
   "execution_count": 4,
   "id": "3565cec3",
   "metadata": {},
   "outputs": [
    {
     "data": {
      "text/plain": [
       "['imdb_id',\n",
       " 'title',\n",
       " 'certificate',\n",
       " 'startYear',\n",
       " 'type',\n",
       " 'origin_country',\n",
       " 'language',\n",
       " 'rating',\n",
       " 'numVotes',\n",
       " 'genres']"
      ]
     },
     "execution_count": 4,
     "metadata": {},
     "output_type": "execute_result"
    }
   ],
   "source": [
    "df.columns\n"
   ]
  },
  {
   "cell_type": "code",
   "execution_count": 5,
   "id": "4f887642",
   "metadata": {},
   "outputs": [
    {
     "name": "stdout",
     "output_type": "stream",
     "text": [
      "+--------------------+-------------------+\n",
      "|               title|             genres|\n",
      "+--------------------+-------------------+\n",
      "|The Woman in the ...|Crime,Drama,Mystery|\n",
      "|      I Am All Girls|Crime,Drama,Mystery|\n",
      "+--------------------+-------------------+\n",
      "\n"
     ]
    }
   ],
   "source": [
    "df.select('title','genres').where(df['genres'].isin(['Crime,Drama,Mystery'])).show()"
   ]
  },
  {
   "cell_type": "code",
   "execution_count": 6,
   "id": "38707404",
   "metadata": {},
   "outputs": [
    {
     "name": "stdout",
     "output_type": "stream",
     "text": [
      "+-----------+\n",
      "|certificate|\n",
      "+-----------+\n",
      "|          7|\n",
      "|         16|\n",
      "|       null|\n",
      "|         PG|\n",
      "|         18|\n",
      "|          U|\n",
      "|        All|\n",
      "|          A|\n",
      "|          R|\n",
      "|          G|\n",
      "|         13|\n",
      "|      PG-13|\n",
      "+-----------+\n",
      "\n"
     ]
    }
   ],
   "source": [
    "df.select('certificate').distinct().show()"
   ]
  },
  {
   "cell_type": "code",
   "execution_count": 7,
   "id": "85fd25aa",
   "metadata": {},
   "outputs": [
    {
     "name": "stdout",
     "output_type": "stream",
     "text": [
      "+-----+\n",
      "| type|\n",
      "+-----+\n",
      "|movie|\n",
      "+-----+\n",
      "\n"
     ]
    }
   ],
   "source": [
    "df.select('type').distinct().show()"
   ]
  },
  {
   "cell_type": "code",
   "execution_count": 40,
   "id": "cc1737f8",
   "metadata": {},
   "outputs": [
    {
     "name": "stdout",
     "output_type": "stream",
     "text": [
      "+--------+\n",
      "|language|\n",
      "+--------+\n",
      "| English|\n",
      "+--------+\n",
      "\n"
     ]
    }
   ],
   "source": [
    "df.select('language').distinct().show()"
   ]
  },
  {
   "cell_type": "code",
   "execution_count": 9,
   "id": "7931685e",
   "metadata": {},
   "outputs": [
    {
     "name": "stdout",
     "output_type": "stream",
     "text": [
      "+--------------------+---+---+----+---+---+---+---+---+---+---+---+-----+\n",
      "|   title_certificate|  7| 16|null| PG| 18|  U|All|  A|  R|  G| 13|PG-13|\n",
      "+--------------------+---+---+----+---+---+---+---+---+---+---+---+-----+\n",
      "|Rise of the Teena...|  0|  0|   1|  0|  0|  0|  0|  0|  0|  0|  0|    0|\n",
      "|       Farewell Amor|  0|  0|   1|  0|  0|  0|  0|  0|  0|  0|  0|    0|\n",
      "|The App That Stol...|  0|  0|   1|  0|  0|  0|  0|  0|  0|  0|  0|    0|\n",
      "|  Single All the Way|  0|  0|   1|  0|  0|  0|  0|  0|  0|  0|  0|    0|\n",
      "|Happiness Ever After|  0|  0|   1|  0|  0|  0|  0|  0|  0|  0|  0|    0|\n",
      "|Secrets of the Sa...|  0|  0|   0|  0|  0|  0|  0|  0|  0|  0|  1|    0|\n",
      "|Bob Ross: Happy A...|  0|  0|   1|  0|  0|  0|  0|  0|  0|  0|  0|    0|\n",
      "|Mucho Mucho Amor:...|  0|  0|   0|  0|  0|  0|  0|  0|  0|  0|  1|    0|\n",
      "|The Last Days of ...|  0|  0|   0|  0|  1|  0|  0|  0|  0|  0|  0|    0|\n",
      "|Have a Good Trip:...|  0|  0|   1|  0|  0|  0|  0|  0|  0|  0|  0|    0|\n",
      "|United Nation Thr...|  0|  0|   1|  0|  0|  0|  0|  0|  0|  0|  0|    0|\n",
      "|       Project Power|  0|  1|   0|  0|  0|  0|  0|  0|  0|  0|  0|    0|\n",
      "| The Kissing Booth 2|  0|  0|   0|  0|  0|  0|  0|  0|  0|  0|  1|    0|\n",
      "|         Serious Men|  0|  1|   0|  0|  0|  0|  0|  0|  0|  0|  0|    0|\n",
      "|                 Go!|  0|  0|   1|  0|  0|  0|  0|  0|  0|  0|  0|    0|\n",
      "|    Think Like a Dog|  0|  0|   0|  1|  0|  0|  0|  0|  0|  0|  0|    0|\n",
      "|             Matilda|  0|  0|   1|  0|  0|  0|  0|  0|  0|  0|  0|    0|\n",
      "|Barbie Princess A...|  0|  0|   1|  0|  0|  0|  0|  0|  0|  0|  0|    0|\n",
      "|                2067|  0|  0|   1|  0|  0|  0|  0|  0|  0|  0|  0|    0|\n",
      "|Bigflo & Oli: Hip...|  0|  0|   1|  0|  0|  0|  0|  0|  0|  0|  0|    0|\n",
      "+--------------------+---+---+----+---+---+---+---+---+---+---+---+-----+\n",
      "only showing top 20 rows\n",
      "\n"
     ]
    }
   ],
   "source": [
    "df.crosstab('title','certificate').select('title_certificate','7','16','null','PG','18','U','All','A','R','G','13','PG-13').show()"
   ]
  },
  {
   "cell_type": "code",
   "execution_count": 10,
   "id": "b49cb9b9",
   "metadata": {},
   "outputs": [
    {
     "name": "stdout",
     "output_type": "stream",
     "text": [
      "+--------------------+\n",
      "|              genres|\n",
      "+--------------------+\n",
      "| Action,Crime,Horror|\n",
      "| Crime,Drama,Mystery|\n",
      "|Adventure,Animati...|\n",
      "|Adventure,Biograp...|\n",
      "|Drama,Horror,Mystery|\n",
      "|Drama,Sci-Fi,Thri...|\n",
      "|              Comedy|\n",
      "| Crime,Drama,Mystery|\n",
      "|Adventure,Animati...|\n",
      "|Biography,Drama,H...|\n",
      "|Action,Adventure,...|\n",
      "|            Thriller|\n",
      "|Action,Adventure,...|\n",
      "|      Horror,Mystery|\n",
      "|Crime,Documentary...|\n",
      "|Action,Adventure,...|\n",
      "|  Comedy,Drama,Music|\n",
      "|       Comedy,Family|\n",
      "|Action,Adventure,...|\n",
      "|Action,Adventure,...|\n",
      "+--------------------+\n",
      "only showing top 20 rows\n",
      "\n"
     ]
    }
   ],
   "source": [
    "df.select('genres').show()"
   ]
  },
  {
   "cell_type": "code",
   "execution_count": 11,
   "id": "e8b0d81e",
   "metadata": {},
   "outputs": [
    {
     "name": "stdout",
     "output_type": "stream",
     "text": [
      "+-----------+-------------------+-------------------+\n",
      "|type_genres|Action,Crime,Horror|Crime,Drama,Mystery|\n",
      "+-----------+-------------------+-------------------+\n",
      "|      movie|                  2|                  2|\n",
      "+-----------+-------------------+-------------------+\n",
      "\n"
     ]
    }
   ],
   "source": [
    "df.crosstab('type','genres').select('type_genres','Action,Crime,Horror','Crime,Drama,Mystery').show()"
   ]
  },
  {
   "cell_type": "code",
   "execution_count": 12,
   "id": "236048e0",
   "metadata": {},
   "outputs": [],
   "source": [
    "from pyspark.sql.functions import *\n"
   ]
  },
  {
   "cell_type": "code",
   "execution_count": 13,
   "id": "09a3c070",
   "metadata": {},
   "outputs": [
    {
     "name": "stdout",
     "output_type": "stream",
     "text": [
      "+----------+--------------------+-----------+---------+-----+--------------+--------+------+--------+--------------------+\n",
      "|   imdb_id|               title|certificate|startYear| type|origin_country|language|rating|numVotes|              genres|\n",
      "+----------+--------------------+-----------+---------+-----+--------------+--------+------+--------+--------------------+\n",
      "| tt0993840|    Army of the Dead|         18|     2021|movie| United States| English|   5.8|110780.0| Action,Crime,Horror|\n",
      "| tt6111574|The Woman in the ...|         18|     2021|movie| United States| English|   5.7| 46703.0| Crime,Drama,Mystery|\n",
      "| tt7979580|The Mitchells vs ...|         13|     2021|movie| United States| English|   7.8| 55762.0|Adventure,Animati...|\n",
      "| tt7084386|        Blue Miracle|         13|     2021|movie| United States| English|   6.7|  2962.0|Adventure,Biograp...|\n",
      "|tt10962368| Things Heard & Seen|         16|     2021|movie| United States| English|   5.3| 20762.0|Drama,Horror,Mystery|\n",
      "| tt9203694|            Stowaway|         13|     2021|movie|       Germany| English|   5.6| 33501.0|Drama,Sci-Fi,Thri...|\n",
      "|tt11286314|       Don't Look Up|       null|     2021|movie| United States| English|   0.0|    null|              Comedy|\n",
      "| tt9013182|      I Am All Girls|         16|     2021|movie|  South Africa| English|   5.8|  3283.0| Crime,Drama,Mystery|\n",
      "| tt9848626|Hotel Transylvani...|       null|     2021|movie| United States| English|   0.0|    null|Adventure,Animati...|\n",
      "| tt3661210|             The Dig|         16|     2021|movie|United Kingdom| English|   7.1| 56763.0|Biography,Drama,H...|\n",
      "|tt10121392|       Thunder Force|         13|     2021|movie| United States| English|   4.4| 33506.0|Action,Adventure,...|\n",
      "| tt3758814|        The Ice Road|      PG-13|     2021|movie| United States| English|   0.0|    null|            Thriller|\n",
      "| tt8368408| Gunpowder Milkshake|          R|     2021|movie|        France| English|   0.0|    null|Action,Adventure,...|\n",
      "| tt6566576|         Fear Street|       null|     2021|movie| United States| English|   0.0|    null|      Horror,Mystery|\n",
      "|tt12939812|      The Nailbomber|       null|     2021|movie|United Kingdom| English|   6.3|  1107.0|Crime,Documentary...|\n",
      "|tt10418662|               Awake|         18|     2021|movie| United States| English|   4.8|  2846.0|Action,Adventure,...|\n",
      "| tt6432466|               Moxie|         13|     2021|movie| United States| English|   6.7| 18962.0|  Comedy,Drama,Music|\n",
      "| tt8521876|             Yes Day|          7|     2021|movie| United States| English|   5.7| 17536.0|       Comedy,Family|\n",
      "| tt6733874|America: The Moti...|       null|     2021|movie| United States| English|   0.0|    null|Action,Adventure,...|\n",
      "|tt10451914|    Outside the Wire|         18|     2021|movie|       Hungary| English|   5.4| 35882.0|Action,Adventure,...|\n",
      "+----------+--------------------+-----------+---------+-----+--------------+--------+------+--------+--------------------+\n",
      "only showing top 20 rows\n",
      "\n"
     ]
    }
   ],
   "source": [
    "df = df.na.fill({'rating':0.0}).show()\n"
   ]
  },
  {
   "cell_type": "code",
   "execution_count": 26,
   "id": "11d0d1a5",
   "metadata": {},
   "outputs": [
    {
     "name": "stdout",
     "output_type": "stream",
     "text": [
      "StringType\n"
     ]
    }
   ],
   "source": [
    "from pyspark.sql.types import DataType\n",
    "print(df.schema[\"genres\"].dataType)"
   ]
  },
  {
   "cell_type": "code",
   "execution_count": 23,
   "id": "e7da6b80",
   "metadata": {},
   "outputs": [
    {
     "name": "stdout",
     "output_type": "stream",
     "text": [
      "+----------+--------------------+-----------+---------+-----+--------------+--------+------+--------+--------------------+\n",
      "|   imdb_id|               title|certificate|startYear| type|origin_country|language|rating|numVotes|              genres|\n",
      "+----------+--------------------+-----------+---------+-----+--------------+--------+------+--------+--------------------+\n",
      "| tt0993840|    Army of the Dead|         18|     2021|movie| United States| English|   5.8|110780.0| Action,Crime,Horror|\n",
      "| tt6111574|The Woman in the ...|         18|     2021|movie| United States| English|   5.7| 46703.0| Crime,Drama,Mystery|\n",
      "| tt9013182|      I Am All Girls|         16|     2021|movie|  South Africa| English|   5.8|  3283.0| Crime,Drama,Mystery|\n",
      "|tt12939812|      The Nailbomber|       null|     2021|movie|United Kingdom| English|   6.3|  1107.0|Crime,Documentary...|\n",
      "| tt7991608|          Red Notice|       null|     2021|movie| United States| English|  null|    null| Action,Comedy,Crime|\n",
      "|tt13024674|     Army of Thieves|       null|     2021|movie|       Germany| English|  null|    null| Action,Crime,Horror|\n",
      "| tt9421570|          The Guilty|          R|     2021|movie| United States| English|  null|    null|Crime,Drama,Thriller|\n",
      "| tt7737528|                Kate|          R|     2021|movie| United States| English|  null|    null|Action,Adventure,...|\n",
      "|tt14111734|Operation Varsity...|         13|     2021|movie| United States| English|   7.0|  6284.0|Crime,Documentary...|\n",
      "|tt13649700|Crack: Cocaine, C...|         18|     2021|movie| United States| English|   6.7|  2640.0|Crime,Documentary...|\n",
      "| tt9893250|        I Care a Lot|         18|     2020|movie| United States| English|   6.3|101431.0|Comedy,Crime,Thri...|\n",
      "| tt7395114|The Devil All the...|         18|     2020|movie| United States| English|   7.1|105158.0|Crime,Drama,Thriller|\n",
      "| tt1838556|        Honest Thief|      PG-13|     2020|movie| United States| English|   6.0| 36583.0|  Action,Crime,Drama|\n",
      "| tt7846844|        Enola Holmes|         13|     2020|movie|United Kingdom| English|   6.6|140708.0|Action,Adventure,...|\n",
      "| tt8629748|Spenser Confidential|         18|     2020|movie| United States| English|   6.2| 75475.0| Action,Comedy,Crime|\n",
      "| tt7550000|       Project Power|         16|     2020|movie| United States| English|   6.0| 75538.0| Action,Crime,Sci-Fi|\n",
      "|tt10308928|     Force of Nature|          A|     2020|movie| United States| English|   4.5|  8425.0|  Action,Crime,Drama|\n",
      "| tt7456312|The Last Thing He...|         18|     2020|movie| United States| English|   4.3| 13387.0|Crime,Drama,Thriller|\n",
      "| tt1552211|The Last Days of ...|         18|     2020|movie| United States| English|   3.7| 10109.0|  Action,Crime,Drama|\n",
      "|tt12987894|American Murder: ...|         16|     2020|movie| United States| English|   7.2| 21242.0|   Crime,Documentary|\n",
      "+----------+--------------------+-----------+---------+-----+--------------+--------+------+--------+--------------------+\n",
      "only showing top 20 rows\n",
      "\n"
     ]
    }
   ],
   "source": [
    "from pyspark.sql.functions import col\n",
    "df.filter(col(\"genres\").contains(\"Crime\")).show()\n"
   ]
  },
  {
   "cell_type": "code",
   "execution_count": 24,
   "id": "24887347",
   "metadata": {},
   "outputs": [
    {
     "name": "stdout",
     "output_type": "stream",
     "text": [
      "+--------------------+------+\n",
      "|               title|rating|\n",
      "+--------------------+------+\n",
      "|    Army of the Dead|   5.8|\n",
      "|The Woman in the ...|   5.7|\n",
      "|      I Am All Girls|   5.8|\n",
      "|      The Nailbomber|   6.3|\n",
      "|          Red Notice|  null|\n",
      "|     Army of Thieves|  null|\n",
      "|          The Guilty|  null|\n",
      "|                Kate|  null|\n",
      "|Operation Varsity...|   7.0|\n",
      "|Crack: Cocaine, C...|   6.7|\n",
      "|        I Care a Lot|   6.3|\n",
      "|The Devil All the...|   7.1|\n",
      "|        Honest Thief|   6.0|\n",
      "|        Enola Holmes|   6.6|\n",
      "|Spenser Confidential|   6.2|\n",
      "|       Project Power|   6.0|\n",
      "|     Force of Nature|   4.5|\n",
      "|The Last Thing He...|   4.3|\n",
      "|The Last Days of ...|   3.7|\n",
      "|American Murder: ...|   7.2|\n",
      "+--------------------+------+\n",
      "only showing top 20 rows\n",
      "\n"
     ]
    }
   ],
   "source": [
    "crime_movie = df.filter(col(\"genres\").contains(\"Crime\"))\n",
    "\n",
    "crime_movie.select('title','rating').show()"
   ]
  },
  {
   "cell_type": "code",
   "execution_count": 38,
   "id": "b6196a6e",
   "metadata": {},
   "outputs": [
    {
     "data": {
      "text/plain": [
       "24"
      ]
     },
     "execution_count": 38,
     "metadata": {},
     "output_type": "execute_result"
    }
   ],
   "source": [
    "crime_movie.count()"
   ]
  },
  {
   "cell_type": "code",
   "execution_count": 27,
   "id": "55f3f93a",
   "metadata": {},
   "outputs": [],
   "source": [
    "split_col = split(df['genres'], ',')"
   ]
  },
  {
   "cell_type": "code",
   "execution_count": 28,
   "id": "d5215aa5",
   "metadata": {},
   "outputs": [
    {
     "name": "stdout",
     "output_type": "stream",
     "text": [
      "+----------+---------------------------------+-----------+---------+-----+--------------+--------+------+--------+--------------------------+------------+------------+------------+\n",
      "|imdb_id   |title                            |certificate|startYear|type |origin_country|language|rating|numVotes|genres                    |genre_type_1|genre_type_2|genre_type_3|\n",
      "+----------+---------------------------------+-----------+---------+-----+--------------+--------+------+--------+--------------------------+------------+------------+------------+\n",
      "|tt0993840 |Army of the Dead                 |18         |2021     |movie|United States |English |5.8   |110780.0|Action,Crime,Horror       |Action      |Crime       |Horror      |\n",
      "|tt6111574 |The Woman in the Window          |18         |2021     |movie|United States |English |5.7   |46703.0 |Crime,Drama,Mystery       |Crime       |Drama       |Mystery     |\n",
      "|tt7979580 |The Mitchells vs the Machines    |13         |2021     |movie|United States |English |7.8   |55762.0 |Adventure,Animation,Comedy|Adventure   |Animation   |Comedy      |\n",
      "|tt7084386 |Blue Miracle                     |13         |2021     |movie|United States |English |6.7   |2962.0  |Adventure,Biography,Drama |Adventure   |Biography   |Drama       |\n",
      "|tt10962368|Things Heard & Seen              |16         |2021     |movie|United States |English |5.3   |20762.0 |Drama,Horror,Mystery      |Drama       |Horror      |Mystery     |\n",
      "|tt9203694 |Stowaway                         |13         |2021     |movie|Germany       |English |5.6   |33501.0 |Drama,Sci-Fi,Thriller     |Drama       |Sci-Fi      |Thriller    |\n",
      "|tt11286314|Don't Look Up                    |null       |2021     |movie|United States |English |null  |null    |Comedy                    |Comedy      |null        |null        |\n",
      "|tt9013182 |I Am All Girls                   |16         |2021     |movie|South Africa  |English |5.8   |3283.0  |Crime,Drama,Mystery       |Crime       |Drama       |Mystery     |\n",
      "|tt9848626 |Hotel Transylvania: Transformania|null       |2021     |movie|United States |English |null  |null    |Adventure,Animation,Comedy|Adventure   |Animation   |Comedy      |\n",
      "|tt3661210 |The Dig                          |16         |2021     |movie|United Kingdom|English |7.1   |56763.0 |Biography,Drama,History   |Biography   |Drama       |History     |\n",
      "|tt10121392|Thunder Force                    |13         |2021     |movie|United States |English |4.4   |33506.0 |Action,Adventure,Comedy   |Action      |Adventure   |Comedy      |\n",
      "|tt3758814 |The Ice Road                     |PG-13      |2021     |movie|United States |English |null  |null    |Thriller                  |Thriller    |null        |null        |\n",
      "|tt8368408 |Gunpowder Milkshake              |R          |2021     |movie|France        |English |null  |null    |Action,Adventure,Thriller |Action      |Adventure   |Thriller    |\n",
      "|tt6566576 |Fear Street                      |null       |2021     |movie|United States |English |null  |null    |Horror,Mystery            |Horror      |Mystery     |null        |\n",
      "|tt12939812|The Nailbomber                   |null       |2021     |movie|United Kingdom|English |6.3   |1107.0  |Crime,Documentary,History |Crime       |Documentary |History     |\n",
      "|tt10418662|Awake                            |18         |2021     |movie|United States |English |4.8   |2846.0  |Action,Adventure,Drama    |Action      |Adventure   |Drama       |\n",
      "|tt6432466 |Moxie                            |13         |2021     |movie|United States |English |6.7   |18962.0 |Comedy,Drama,Music        |Comedy      |Drama       |Music       |\n",
      "|tt8521876 |Yes Day                          |7          |2021     |movie|United States |English |5.7   |17536.0 |Comedy,Family             |Comedy      |Family      |null        |\n",
      "|tt6733874 |America: The Motion Picture      |null       |2021     |movie|United States |English |null  |null    |Action,Adventure,Animation|Action      |Adventure   |Animation   |\n",
      "|tt10451914|Outside the Wire                 |18         |2021     |movie|Hungary       |English |5.4   |35882.0 |Action,Adventure,Fantasy  |Action      |Adventure   |Fantasy     |\n",
      "+----------+---------------------------------+-----------+---------+-----+--------------+--------+------+--------+--------------------------+------------+------------+------------+\n",
      "only showing top 20 rows\n",
      "\n"
     ]
    }
   ],
   "source": [
    "df2 = df.withColumn('genre_type_1', split_col.getItem(0)) \\\n",
    "       .withColumn('genre_type_2', split_col.getItem(1)) \\\n",
    "       .withColumn('genre_type_3', split_col.getItem(2))\n",
    "df2.show(truncate=False)   "
   ]
  },
  {
   "cell_type": "code",
   "execution_count": 29,
   "id": "8893ff9d",
   "metadata": {},
   "outputs": [
    {
     "name": "stdout",
     "output_type": "stream",
     "text": [
      "+------------+------------+------------+\n",
      "|genre_type_1|genre_type_2|genre_type_3|\n",
      "+------------+------------+------------+\n",
      "|      Action|       Crime|      Horror|\n",
      "|       Crime|       Drama|     Mystery|\n",
      "|   Adventure|   Animation|      Comedy|\n",
      "|   Adventure|   Biography|       Drama|\n",
      "|       Drama|      Horror|     Mystery|\n",
      "|       Drama|      Sci-Fi|    Thriller|\n",
      "|      Comedy|        null|        null|\n",
      "|       Crime|       Drama|     Mystery|\n",
      "|   Adventure|   Animation|      Comedy|\n",
      "|   Biography|       Drama|     History|\n",
      "|      Action|   Adventure|      Comedy|\n",
      "|    Thriller|        null|        null|\n",
      "|      Action|   Adventure|    Thriller|\n",
      "|      Horror|     Mystery|        null|\n",
      "|       Crime| Documentary|     History|\n",
      "|      Action|   Adventure|       Drama|\n",
      "|      Comedy|       Drama|       Music|\n",
      "|      Comedy|      Family|        null|\n",
      "|      Action|   Adventure|   Animation|\n",
      "|      Action|   Adventure|     Fantasy|\n",
      "+------------+------------+------------+\n",
      "only showing top 20 rows\n",
      "\n"
     ]
    }
   ],
   "source": [
    "df2.select('genre_type_1','genre_type_2','genre_type_3').show()"
   ]
  },
  {
   "cell_type": "code",
   "execution_count": 30,
   "id": "6fd8b65b",
   "metadata": {},
   "outputs": [],
   "source": [
    "import pandas as pd\n"
   ]
  },
  {
   "cell_type": "code",
   "execution_count": 31,
   "id": "4175f54a",
   "metadata": {},
   "outputs": [],
   "source": [
    "pd_df = pd.read_csv(\"netflix_list.csv\")\n",
    "pd_df.certificate =pd_df.certificate.astype(str)"
   ]
  },
  {
   "cell_type": "code",
   "execution_count": 32,
   "id": "f9083866",
   "metadata": {},
   "outputs": [
    {
     "name": "stdout",
     "output_type": "stream",
     "text": [
      "<class 'pandas.core.frame.DataFrame'>\n",
      "RangeIndex: 235 entries, 0 to 234\n",
      "Data columns (total 10 columns):\n",
      " #   Column          Non-Null Count  Dtype  \n",
      "---  ------          --------------  -----  \n",
      " 0   imdb_id         235 non-null    object \n",
      " 1   title           235 non-null    object \n",
      " 2   certificate     235 non-null    object \n",
      " 3   startYear       235 non-null    int64  \n",
      " 4   type            235 non-null    object \n",
      " 5   origin_country  235 non-null    object \n",
      " 6   language        235 non-null    object \n",
      " 7   rating          176 non-null    float64\n",
      " 8   numVotes        176 non-null    float64\n",
      " 9   genres          235 non-null    object \n",
      "dtypes: float64(2), int64(1), object(7)\n",
      "memory usage: 18.5+ KB\n"
     ]
    }
   ],
   "source": [
    "pd_df.info()"
   ]
  },
  {
   "cell_type": "code",
   "execution_count": 33,
   "id": "a9a6e3bc",
   "metadata": {},
   "outputs": [],
   "source": [
    "pd_df =df.na.fill({'numVotes':0.0})"
   ]
  },
  {
   "cell_type": "code",
   "execution_count": 34,
   "id": "319532a9",
   "metadata": {},
   "outputs": [
    {
     "name": "stdout",
     "output_type": "stream",
     "text": [
      "+----------+--------------------+-----------+---------+-----+--------------+--------+------+--------+--------------------+\n",
      "|   imdb_id|               title|certificate|startYear| type|origin_country|language|rating|numVotes|              genres|\n",
      "+----------+--------------------+-----------+---------+-----+--------------+--------+------+--------+--------------------+\n",
      "| tt0993840|    Army of the Dead|         18|     2021|movie| United States| English|   5.8|110780.0| Action,Crime,Horror|\n",
      "| tt6111574|The Woman in the ...|         18|     2021|movie| United States| English|   5.7| 46703.0| Crime,Drama,Mystery|\n",
      "| tt7979580|The Mitchells vs ...|         13|     2021|movie| United States| English|   7.8| 55762.0|Adventure,Animati...|\n",
      "| tt7084386|        Blue Miracle|         13|     2021|movie| United States| English|   6.7|  2962.0|Adventure,Biograp...|\n",
      "|tt10962368| Things Heard & Seen|         16|     2021|movie| United States| English|   5.3| 20762.0|Drama,Horror,Mystery|\n",
      "| tt9203694|            Stowaway|         13|     2021|movie|       Germany| English|   5.6| 33501.0|Drama,Sci-Fi,Thri...|\n",
      "|tt11286314|       Don't Look Up|       null|     2021|movie| United States| English|  null|     0.0|              Comedy|\n",
      "| tt9013182|      I Am All Girls|         16|     2021|movie|  South Africa| English|   5.8|  3283.0| Crime,Drama,Mystery|\n",
      "| tt9848626|Hotel Transylvani...|       null|     2021|movie| United States| English|  null|     0.0|Adventure,Animati...|\n",
      "| tt3661210|             The Dig|         16|     2021|movie|United Kingdom| English|   7.1| 56763.0|Biography,Drama,H...|\n",
      "|tt10121392|       Thunder Force|         13|     2021|movie| United States| English|   4.4| 33506.0|Action,Adventure,...|\n",
      "| tt3758814|        The Ice Road|      PG-13|     2021|movie| United States| English|  null|     0.0|            Thriller|\n",
      "| tt8368408| Gunpowder Milkshake|          R|     2021|movie|        France| English|  null|     0.0|Action,Adventure,...|\n",
      "| tt6566576|         Fear Street|       null|     2021|movie| United States| English|  null|     0.0|      Horror,Mystery|\n",
      "|tt12939812|      The Nailbomber|       null|     2021|movie|United Kingdom| English|   6.3|  1107.0|Crime,Documentary...|\n",
      "|tt10418662|               Awake|         18|     2021|movie| United States| English|   4.8|  2846.0|Action,Adventure,...|\n",
      "| tt6432466|               Moxie|         13|     2021|movie| United States| English|   6.7| 18962.0|  Comedy,Drama,Music|\n",
      "| tt8521876|             Yes Day|          7|     2021|movie| United States| English|   5.7| 17536.0|       Comedy,Family|\n",
      "| tt6733874|America: The Moti...|       null|     2021|movie| United States| English|  null|     0.0|Action,Adventure,...|\n",
      "|tt10451914|    Outside the Wire|         18|     2021|movie|       Hungary| English|   5.4| 35882.0|Action,Adventure,...|\n",
      "+----------+--------------------+-----------+---------+-----+--------------+--------+------+--------+--------------------+\n",
      "only showing top 20 rows\n",
      "\n"
     ]
    }
   ],
   "source": [
    "pd_df.show()"
   ]
  },
  {
   "cell_type": "code",
   "execution_count": 35,
   "id": "dce7b40a",
   "metadata": {},
   "outputs": [
    {
     "name": "stdout",
     "output_type": "stream",
     "text": [
      "+----------+--------------------+-----------+---------+-----+--------------+--------+------+--------+--------------------+\n",
      "|   imdb_id|               title|certificate|startYear| type|origin_country|language|rating|numVotes|              genres|\n",
      "+----------+--------------------+-----------+---------+-----+--------------+--------+------+--------+--------------------+\n",
      "| tt0993840|    Army of the Dead|         18|     2021|movie| United States| English|   5.8|110780.0| Action,Crime,Horror|\n",
      "| tt6111574|The Woman in the ...|         18|     2021|movie| United States| English|   5.7| 46703.0| Crime,Drama,Mystery|\n",
      "| tt7979580|The Mitchells vs ...|         13|     2021|movie| United States| English|   7.8| 55762.0|Adventure,Animati...|\n",
      "| tt7084386|        Blue Miracle|         13|     2021|movie| United States| English|   6.7|  2962.0|Adventure,Biograp...|\n",
      "|tt10962368| Things Heard & Seen|         16|     2021|movie| United States| English|   5.3| 20762.0|Drama,Horror,Mystery|\n",
      "| tt9203694|            Stowaway|         13|     2021|movie|       Germany| English|   5.6| 33501.0|Drama,Sci-Fi,Thri...|\n",
      "|tt11286314|       Don't Look Up|       null|     2021|movie| United States| English|   0.0|     0.0|              Comedy|\n",
      "| tt9013182|      I Am All Girls|         16|     2021|movie|  South Africa| English|   5.8|  3283.0| Crime,Drama,Mystery|\n",
      "| tt9848626|Hotel Transylvani...|       null|     2021|movie| United States| English|   0.0|     0.0|Adventure,Animati...|\n",
      "| tt3661210|             The Dig|         16|     2021|movie|United Kingdom| English|   7.1| 56763.0|Biography,Drama,H...|\n",
      "|tt10121392|       Thunder Force|         13|     2021|movie| United States| English|   4.4| 33506.0|Action,Adventure,...|\n",
      "| tt3758814|        The Ice Road|      PG-13|     2021|movie| United States| English|   0.0|     0.0|            Thriller|\n",
      "| tt8368408| Gunpowder Milkshake|          R|     2021|movie|        France| English|   0.0|     0.0|Action,Adventure,...|\n",
      "| tt6566576|         Fear Street|       null|     2021|movie| United States| English|   0.0|     0.0|      Horror,Mystery|\n",
      "|tt12939812|      The Nailbomber|       null|     2021|movie|United Kingdom| English|   6.3|  1107.0|Crime,Documentary...|\n",
      "|tt10418662|               Awake|         18|     2021|movie| United States| English|   4.8|  2846.0|Action,Adventure,...|\n",
      "| tt6432466|               Moxie|         13|     2021|movie| United States| English|   6.7| 18962.0|  Comedy,Drama,Music|\n",
      "| tt8521876|             Yes Day|          7|     2021|movie| United States| English|   5.7| 17536.0|       Comedy,Family|\n",
      "| tt6733874|America: The Moti...|       null|     2021|movie| United States| English|   0.0|     0.0|Action,Adventure,...|\n",
      "|tt10451914|    Outside the Wire|         18|     2021|movie|       Hungary| English|   5.4| 35882.0|Action,Adventure,...|\n",
      "+----------+--------------------+-----------+---------+-----+--------------+--------+------+--------+--------------------+\n",
      "only showing top 20 rows\n",
      "\n"
     ]
    }
   ],
   "source": [
    "pd_df = pd_df.na.fill({'rating':0.0}).show()\n"
   ]
  },
  {
   "cell_type": "code",
   "execution_count": null,
   "id": "eaac7ffc",
   "metadata": {},
   "outputs": [],
   "source": []
  },
  {
   "cell_type": "code",
   "execution_count": null,
   "id": "7a2415ee",
   "metadata": {},
   "outputs": [],
   "source": []
  }
 ],
 "metadata": {
  "kernelspec": {
   "display_name": "Python 3 (ipykernel)",
   "language": "python",
   "name": "python3"
  },
  "language_info": {
   "codemirror_mode": {
    "name": "ipython",
    "version": 3
   },
   "file_extension": ".py",
   "mimetype": "text/x-python",
   "name": "python",
   "nbconvert_exporter": "python",
   "pygments_lexer": "ipython3",
   "version": "3.9.7"
  }
 },
 "nbformat": 4,
 "nbformat_minor": 5
}
