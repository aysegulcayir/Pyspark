{
 "cells": [
  {
   "cell_type": "code",
   "execution_count": 1,
   "id": "9e50f793",
   "metadata": {},
   "outputs": [],
   "source": [
    "import findspark\n",
    "import math\n",
    "import numpy as np \n",
    "import pandas as pd \n",
    "from pyspark.sql.functions import isnan, when, count, col, isnull, asc, desc, mean\n",
    "findspark.init()\n",
    "import pyspark\n",
    "from pyspark.sql import SparkSession\n",
    "spark = SparkSession.builder.getOrCreate()\n",
    "df = spark.read.format(\"csv\").option(\"inferschema\",\"True\").option(\"header\",\"True\").option(\"sep\",\",\").load(\"netflix_list.csv\")"
   ]
  },
  {
   "cell_type": "code",
   "execution_count": 2,
   "id": "219c627d",
   "metadata": {},
   "outputs": [
    {
     "data": {
      "text/plain": [
       "DataFrame[imdb_id: string, title: string, certificate: string, startYear: int, type: string, origin_country: string, language: string, rating: double, numVotes: double, genres: string]"
      ]
     },
     "metadata": {},
     "output_type": "display_data"
    }
   ],
   "source": [
    "display(df)"
   ]
  },
  {
   "cell_type": "code",
   "execution_count": 3,
   "id": "daba4f34",
   "metadata": {},
   "outputs": [
    {
     "name": "stdout",
     "output_type": "stream",
     "text": [
      "+----------+--------------------+-----------+---------+-----+--------------+--------+------+--------+--------------------+\n",
      "|   imdb_id|               title|certificate|startYear| type|origin_country|language|rating|numVotes|              genres|\n",
      "+----------+--------------------+-----------+---------+-----+--------------+--------+------+--------+--------------------+\n",
      "| tt0993840|    Army of the Dead|         18|     2021|movie| United States| English|   5.8|110780.0| Action,Crime,Horror|\n",
      "| tt6111574|The Woman in the ...|         18|     2021|movie| United States| English|   5.7| 46703.0| Crime,Drama,Mystery|\n",
      "| tt7979580|The Mitchells vs ...|         13|     2021|movie| United States| English|   7.8| 55762.0|Adventure,Animati...|\n",
      "| tt7084386|        Blue Miracle|         13|     2021|movie| United States| English|   6.7|  2962.0|Adventure,Biograp...|\n",
      "|tt10962368| Things Heard & Seen|         16|     2021|movie| United States| English|   5.3| 20762.0|Drama,Horror,Mystery|\n",
      "+----------+--------------------+-----------+---------+-----+--------------+--------+------+--------+--------------------+\n",
      "only showing top 5 rows\n",
      "\n"
     ]
    }
   ],
   "source": [
    "df.show(5)"
   ]
  },
  {
   "cell_type": "code",
   "execution_count": 4,
   "id": "3565cec3",
   "metadata": {},
   "outputs": [
    {
     "data": {
      "text/plain": [
       "['imdb_id',\n",
       " 'title',\n",
       " 'certificate',\n",
       " 'startYear',\n",
       " 'type',\n",
       " 'origin_country',\n",
       " 'language',\n",
       " 'rating',\n",
       " 'numVotes',\n",
       " 'genres']"
      ]
     },
     "execution_count": 4,
     "metadata": {},
     "output_type": "execute_result"
    }
   ],
   "source": [
    "df.columns\n"
   ]
  },
  {
   "cell_type": "code",
   "execution_count": 5,
   "id": "abb7edf7",
   "metadata": {},
   "outputs": [
    {
     "name": "stdout",
     "output_type": "stream",
     "text": [
      "+----------+--------------------------------+-----------+---------+-----+--------------+--------+------+--------+--------------------------+\n",
      "|imdb_id   |title                           |certificate|startYear|type |origin_country|language|rating|numVotes|genres                    |\n",
      "+----------+--------------------------------+-----------+---------+-----+--------------+--------+------+--------+--------------------------+\n",
      "|tt6338498 |Vivo                            |PG         |2021     |movie|Canada        |English |null  |null    |Adventure,Animation,Comedy|\n",
      "|tt13575806|Back to the Outback             |null       |2021     |movie|United States |English |null  |null    |Adventure,Animation,Comedy|\n",
      "|tt9421570 |The Guilty                      |R          |2021     |movie|United States |English |null  |null    |Crime,Drama,Thriller      |\n",
      "|tt11286314|Don't Look Up                   |null       |2021     |movie|United States |English |null  |null    |Comedy                    |\n",
      "|tt10293406|The Power of the Dog            |null       |2021     |movie|United Kingdom|English |null  |null    |Drama                     |\n",
      "|tt3758814 |The Ice Road                    |PG-13      |2021     |movie|United States |English |null  |null    |Thriller                  |\n",
      "|tt6964940 |Skater Girl                     |7          |2021     |movie|United States |English |null  |null    |Drama,Family,Sport        |\n",
      "|tt6566576 |Fear Street                     |null       |2021     |movie|United States |English |null  |null    |Horror,Mystery            |\n",
      "|tt6733874 |America: The Motion Picture     |null       |2021     |movie|United States |English |null  |null    |Action,Adventure,Animation|\n",
      "|tt7991608 |Red Notice                      |null       |2021     |movie|United States |English |null  |null    |Action,Comedy,Crime       |\n",
      "|tt8721424 |tick, tick...Boom!              |null       |2021     |movie|United States |English |null  |null    |Biography,Drama,Musical   |\n",
      "|tt12851396|Trollhunters: Rise of the Titans|null       |2021     |movie|United States |English |null  |null    |Action,Adventure,Animation|\n",
      "|tt6467266 |Sing 2                          |PG         |2021     |movie|France        |English |null  |null    |Adventure,Animation,Comedy|\n",
      "|tt9701940 |Fear Street 2                   |null       |2021     |movie|United States |English |null  |null    |Horror,Mystery            |\n",
      "|tt4590256 |He's All That                   |null       |2021     |movie|United States |English |null  |null    |Comedy,Romance            |\n",
      "|tt7737528 |Kate                            |R          |2021     |movie|United States |English |null  |null    |Action,Adventure,Crime    |\n",
      "|tt8231668 |Good on Paper                   |R          |2021     |movie|United States |English |null  |null    |Comedy,Romance            |\n",
      "|tt6714432 |The Loud House                  |null       |2021     |movie|Spain         |English |null  |null    |Action,Adventure,Animation|\n",
      "|tt1893273 |The Last Letter from Your Lover |null       |2021     |movie|United Kingdom|English |null  |null    |Drama,Romance             |\n",
      "|tt9701942 |Fear Street 3                   |null       |2021     |movie|United States |English |null  |null    |Horror,Mystery            |\n",
      "+----------+--------------------------------+-----------+---------+-----+--------------+--------+------+--------+--------------------------+\n",
      "only showing top 20 rows\n",
      "\n"
     ]
    }
   ],
   "source": [
    "df.sort(\"numVotes\",\"rating\").show(truncate=False)\n",
    "#df = df.sort(col(\"numVotes\"),col(\"rating\"))"
   ]
  },
  {
   "cell_type": "code",
   "execution_count": 6,
   "id": "554d2cc9",
   "metadata": {},
   "outputs": [
    {
     "name": "stdout",
     "output_type": "stream",
     "text": [
      "7\n"
     ]
    }
   ],
   "source": [
    "'''Find the mean of the column \"rating\" '''\n",
    "mean_ = df.select(mean(col('rating'))).take(1)[0][0]\n",
    "mean_ = math.ceil(mean_)\n",
    "print(mean_)"
   ]
  },
  {
   "cell_type": "code",
   "execution_count": 7,
   "id": "66a3706c",
   "metadata": {},
   "outputs": [
    {
     "name": "stdout",
     "output_type": "stream",
     "text": [
      "18644\n"
     ]
    }
   ],
   "source": [
    "'''Find the mean of the column \"rating\" '''\n",
    "mean1_ = df.select(mean(col('numVotes'))).take(1)[0][0]\n",
    "mean1_ = math.ceil(mean1_)\n",
    "print(mean1_)"
   ]
  },
  {
   "cell_type": "code",
   "execution_count": 8,
   "id": "eff9caa1",
   "metadata": {},
   "outputs": [],
   "source": [
    "import pyspark.sql.functions as F\n",
    "df = df.withColumn(\"rating/numVotes\",  (F.col(\"rating\") / F.col(\"numVotes\")))"
   ]
  },
  {
   "cell_type": "code",
   "execution_count": 9,
   "id": "d7d9b1a0",
   "metadata": {},
   "outputs": [
    {
     "data": {
      "text/html": [
       "<div>\n",
       "<style scoped>\n",
       "    .dataframe tbody tr th:only-of-type {\n",
       "        vertical-align: middle;\n",
       "    }\n",
       "\n",
       "    .dataframe tbody tr th {\n",
       "        vertical-align: top;\n",
       "    }\n",
       "\n",
       "    .dataframe thead th {\n",
       "        text-align: right;\n",
       "    }\n",
       "</style>\n",
       "<table border=\"1\" class=\"dataframe\">\n",
       "  <thead>\n",
       "    <tr style=\"text-align: right;\">\n",
       "      <th></th>\n",
       "      <th>rating/numVotes</th>\n",
       "    </tr>\n",
       "  </thead>\n",
       "  <tbody>\n",
       "    <tr>\n",
       "      <th>0</th>\n",
       "      <td>0.000052</td>\n",
       "    </tr>\n",
       "    <tr>\n",
       "      <th>1</th>\n",
       "      <td>0.000122</td>\n",
       "    </tr>\n",
       "    <tr>\n",
       "      <th>2</th>\n",
       "      <td>0.000140</td>\n",
       "    </tr>\n",
       "    <tr>\n",
       "      <th>3</th>\n",
       "      <td>0.002262</td>\n",
       "    </tr>\n",
       "    <tr>\n",
       "      <th>4</th>\n",
       "      <td>0.000255</td>\n",
       "    </tr>\n",
       "    <tr>\n",
       "      <th>...</th>\n",
       "      <td>...</td>\n",
       "    </tr>\n",
       "    <tr>\n",
       "      <th>230</th>\n",
       "      <td>0.250000</td>\n",
       "    </tr>\n",
       "    <tr>\n",
       "      <th>231</th>\n",
       "      <td>0.178788</td>\n",
       "    </tr>\n",
       "    <tr>\n",
       "      <th>232</th>\n",
       "      <td>0.070408</td>\n",
       "    </tr>\n",
       "    <tr>\n",
       "      <th>233</th>\n",
       "      <td>0.187879</td>\n",
       "    </tr>\n",
       "    <tr>\n",
       "      <th>234</th>\n",
       "      <td>NaN</td>\n",
       "    </tr>\n",
       "  </tbody>\n",
       "</table>\n",
       "<p>235 rows × 1 columns</p>\n",
       "</div>"
      ],
      "text/plain": [
       "     rating/numVotes\n",
       "0           0.000052\n",
       "1           0.000122\n",
       "2           0.000140\n",
       "3           0.002262\n",
       "4           0.000255\n",
       "..               ...\n",
       "230         0.250000\n",
       "231         0.178788\n",
       "232         0.070408\n",
       "233         0.187879\n",
       "234              NaN\n",
       "\n",
       "[235 rows x 1 columns]"
      ]
     },
     "execution_count": 9,
     "metadata": {},
     "output_type": "execute_result"
    }
   ],
   "source": [
    "import pandas\n",
    "df.select(\"rating/numVotes\").toPandas()"
   ]
  },
  {
   "cell_type": "code",
   "execution_count": 10,
   "id": "cc17d4fb",
   "metadata": {},
   "outputs": [
    {
     "name": "stdout",
     "output_type": "stream",
     "text": [
      "Row(title='Army of the Dead')\n"
     ]
    }
   ],
   "source": [
    "print(df.select(['title']).collect()[0]) #first(),show(0) etc."
   ]
  },
  {
   "cell_type": "code",
   "execution_count": 11,
   "id": "4f887642",
   "metadata": {},
   "outputs": [
    {
     "name": "stdout",
     "output_type": "stream",
     "text": [
      "+--------------------+-------------------+\n",
      "|               title|             genres|\n",
      "+--------------------+-------------------+\n",
      "|The Woman in the ...|Crime,Drama,Mystery|\n",
      "|      I Am All Girls|Crime,Drama,Mystery|\n",
      "+--------------------+-------------------+\n",
      "\n"
     ]
    }
   ],
   "source": [
    "df.select('title','genres').where(df['genres'].isin(['Crime,Drama,Mystery'])).show()"
   ]
  },
  {
   "cell_type": "code",
   "execution_count": 12,
   "id": "38707404",
   "metadata": {},
   "outputs": [
    {
     "name": "stdout",
     "output_type": "stream",
     "text": [
      "+-----------+\n",
      "|certificate|\n",
      "+-----------+\n",
      "|          7|\n",
      "|         16|\n",
      "|       null|\n",
      "|         PG|\n",
      "|         18|\n",
      "|          U|\n",
      "|        All|\n",
      "|          A|\n",
      "|          R|\n",
      "|          G|\n",
      "|         13|\n",
      "|      PG-13|\n",
      "+-----------+\n",
      "\n"
     ]
    }
   ],
   "source": [
    "df.select('certificate').distinct().show()"
   ]
  },
  {
   "cell_type": "code",
   "execution_count": 13,
   "id": "85fd25aa",
   "metadata": {},
   "outputs": [
    {
     "name": "stdout",
     "output_type": "stream",
     "text": [
      "+-----+\n",
      "| type|\n",
      "+-----+\n",
      "|movie|\n",
      "+-----+\n",
      "\n"
     ]
    }
   ],
   "source": [
    "df.select('type').distinct().show()"
   ]
  },
  {
   "cell_type": "code",
   "execution_count": 14,
   "id": "cc1737f8",
   "metadata": {},
   "outputs": [
    {
     "name": "stdout",
     "output_type": "stream",
     "text": [
      "+--------+\n",
      "|language|\n",
      "+--------+\n",
      "| English|\n",
      "+--------+\n",
      "\n"
     ]
    }
   ],
   "source": [
    "df.select('language').distinct().show()"
   ]
  },
  {
   "cell_type": "code",
   "execution_count": 15,
   "id": "7931685e",
   "metadata": {},
   "outputs": [
    {
     "name": "stdout",
     "output_type": "stream",
     "text": [
      "+--------------------+---+---+----+---+---+---+---+---+---+---+---+-----+\n",
      "|   title_certificate|  7| 16|null| PG| 18|  U|All|  A|  R|  G| 13|PG-13|\n",
      "+--------------------+---+---+----+---+---+---+---+---+---+---+---+-----+\n",
      "|Rise of the Teena...|  0|  0|   1|  0|  0|  0|  0|  0|  0|  0|  0|    0|\n",
      "|       Farewell Amor|  0|  0|   1|  0|  0|  0|  0|  0|  0|  0|  0|    0|\n",
      "|The App That Stol...|  0|  0|   1|  0|  0|  0|  0|  0|  0|  0|  0|    0|\n",
      "|  Single All the Way|  0|  0|   1|  0|  0|  0|  0|  0|  0|  0|  0|    0|\n",
      "|Happiness Ever After|  0|  0|   1|  0|  0|  0|  0|  0|  0|  0|  0|    0|\n",
      "|Secrets of the Sa...|  0|  0|   0|  0|  0|  0|  0|  0|  0|  0|  1|    0|\n",
      "|Bob Ross: Happy A...|  0|  0|   1|  0|  0|  0|  0|  0|  0|  0|  0|    0|\n",
      "|Mucho Mucho Amor:...|  0|  0|   0|  0|  0|  0|  0|  0|  0|  0|  1|    0|\n",
      "|The Last Days of ...|  0|  0|   0|  0|  1|  0|  0|  0|  0|  0|  0|    0|\n",
      "|Have a Good Trip:...|  0|  0|   1|  0|  0|  0|  0|  0|  0|  0|  0|    0|\n",
      "|United Nation Thr...|  0|  0|   1|  0|  0|  0|  0|  0|  0|  0|  0|    0|\n",
      "|       Project Power|  0|  1|   0|  0|  0|  0|  0|  0|  0|  0|  0|    0|\n",
      "| The Kissing Booth 2|  0|  0|   0|  0|  0|  0|  0|  0|  0|  0|  1|    0|\n",
      "|         Serious Men|  0|  1|   0|  0|  0|  0|  0|  0|  0|  0|  0|    0|\n",
      "|                 Go!|  0|  0|   1|  0|  0|  0|  0|  0|  0|  0|  0|    0|\n",
      "|    Think Like a Dog|  0|  0|   0|  1|  0|  0|  0|  0|  0|  0|  0|    0|\n",
      "|             Matilda|  0|  0|   1|  0|  0|  0|  0|  0|  0|  0|  0|    0|\n",
      "|Barbie Princess A...|  0|  0|   1|  0|  0|  0|  0|  0|  0|  0|  0|    0|\n",
      "|                2067|  0|  0|   1|  0|  0|  0|  0|  0|  0|  0|  0|    0|\n",
      "|Bigflo & Oli: Hip...|  0|  0|   1|  0|  0|  0|  0|  0|  0|  0|  0|    0|\n",
      "+--------------------+---+---+----+---+---+---+---+---+---+---+---+-----+\n",
      "only showing top 20 rows\n",
      "\n"
     ]
    }
   ],
   "source": [
    "df.crosstab('title','certificate').select('title_certificate','7','16','null','PG','18','U','All','A','R','G','13','PG-13').show()"
   ]
  },
  {
   "cell_type": "code",
   "execution_count": 16,
   "id": "1d4c34db",
   "metadata": {},
   "outputs": [
    {
     "name": "stdout",
     "output_type": "stream",
     "text": [
      "+--------------------+\n",
      "|              genres|\n",
      "+--------------------+\n",
      "| Action,Crime,Horror|\n",
      "| Crime,Drama,Mystery|\n",
      "|Adventure,Animati...|\n",
      "|Adventure,Biograp...|\n",
      "|Drama,Horror,Mystery|\n",
      "|Drama,Sci-Fi,Thri...|\n",
      "|              Comedy|\n",
      "| Crime,Drama,Mystery|\n",
      "|Adventure,Animati...|\n",
      "|Biography,Drama,H...|\n",
      "|Action,Adventure,...|\n",
      "|            Thriller|\n",
      "|Action,Adventure,...|\n",
      "|      Horror,Mystery|\n",
      "|Crime,Documentary...|\n",
      "|Action,Adventure,...|\n",
      "|  Comedy,Drama,Music|\n",
      "|       Comedy,Family|\n",
      "|Action,Adventure,...|\n",
      "|Action,Adventure,...|\n",
      "+--------------------+\n",
      "only showing top 20 rows\n",
      "\n"
     ]
    }
   ],
   "source": [
    "df.select('genres').show()"
   ]
  },
  {
   "cell_type": "code",
   "execution_count": 17,
   "id": "d988e25d",
   "metadata": {},
   "outputs": [
    {
     "name": "stdout",
     "output_type": "stream",
     "text": [
      "+-----------+-------------------+-------------------+\n",
      "|type_genres|Action,Crime,Horror|Crime,Drama,Mystery|\n",
      "+-----------+-------------------+-------------------+\n",
      "|      movie|                  2|                  2|\n",
      "+-----------+-------------------+-------------------+\n",
      "\n"
     ]
    }
   ],
   "source": [
    "df.crosstab('type','genres').select('type_genres','Action,Crime,Horror','Crime,Drama,Mystery').show()"
   ]
  },
  {
   "cell_type": "code",
   "execution_count": 18,
   "id": "591ed8be",
   "metadata": {},
   "outputs": [],
   "source": [
    "from pyspark.sql.functions import *\n"
   ]
  },
  {
   "cell_type": "code",
   "execution_count": 19,
   "id": "ea1e58b5",
   "metadata": {},
   "outputs": [
    {
     "ename": "TypeError",
     "evalue": "limit() missing 1 required positional argument: 'num'",
     "output_type": "error",
     "traceback": [
      "\u001b[1;31m---------------------------------------------------------------------------\u001b[0m",
      "\u001b[1;31mTypeError\u001b[0m                                 Traceback (most recent call last)",
      "\u001b[1;32m~\\AppData\\Local\\Temp/ipykernel_21228/1361161804.py\u001b[0m in \u001b[0;36m<module>\u001b[1;34m\u001b[0m\n\u001b[1;32m----> 1\u001b[1;33m \u001b[0mdf\u001b[0m \u001b[1;33m=\u001b[0m \u001b[0mdf\u001b[0m\u001b[1;33m.\u001b[0m\u001b[0mna\u001b[0m\u001b[1;33m.\u001b[0m\u001b[0mfill\u001b[0m\u001b[1;33m(\u001b[0m\u001b[1;33m{\u001b[0m\u001b[1;34m'rating'\u001b[0m\u001b[1;33m:\u001b[0m\u001b[0mmean_\u001b[0m\u001b[1;33m}\u001b[0m\u001b[1;33m)\u001b[0m\u001b[1;33m.\u001b[0m\u001b[0mlimit\u001b[0m\u001b[1;33m(\u001b[0m\u001b[1;33m)\u001b[0m\u001b[1;33m\u001b[0m\u001b[1;33m\u001b[0m\u001b[0m\n\u001b[0m",
      "\u001b[1;31mTypeError\u001b[0m: limit() missing 1 required positional argument: 'num'"
     ]
    }
   ],
   "source": [
    "df = df.na.fill({'rating':mean_}).limit()\n"
   ]
  },
  {
   "cell_type": "code",
   "execution_count": null,
   "id": "1230fdf3",
   "metadata": {},
   "outputs": [],
   "source": [
    "df = df.fillna({'numVotes':mean1_})"
   ]
  },
  {
   "cell_type": "code",
   "execution_count": null,
   "id": "9ad95b10",
   "metadata": {},
   "outputs": [],
   "source": [
    "from pyspark.sql.functions import col\n",
    "df.filter(col(\"genres\").contains(\"Crime\")).show()\n"
   ]
  },
  {
   "cell_type": "code",
   "execution_count": null,
   "id": "faaf2d0f",
   "metadata": {},
   "outputs": [],
   "source": [
    "crime_movie.count()"
   ]
  },
  {
   "cell_type": "code",
   "execution_count": null,
   "id": "49aeb00f",
   "metadata": {},
   "outputs": [],
   "source": [
    "split_col = split(df['genres'], ',')"
   ]
  },
  {
   "cell_type": "code",
   "execution_count": null,
   "id": "8913e8f3",
   "metadata": {},
   "outputs": [],
   "source": [
    "df2 = df.withColumn('genre_type_1', split_col.getItem(0)) \\\n",
    "       .withColumn('genre_type_2', split_col.getItem(1)) \\\n",
    "       .withColumn('genre_type_3', split_col.getItem(2))\n",
    "df2.show(truncate=False)   "
   ]
  },
  {
   "cell_type": "code",
   "execution_count": null,
   "id": "21674a04",
   "metadata": {},
   "outputs": [],
   "source": [
    "df2.select('genre_type_1','genre_type_2','genre_type_3').show()"
   ]
  },
  {
   "cell_type": "code",
   "execution_count": null,
   "id": "4175f54a",
   "metadata": {},
   "outputs": [],
   "source": [
    "pd_df = pd.read_csv(\"netflix_list.csv\")\n",
    "pd_df.certificate =pd_df.certificate.astype(str)"
   ]
  },
  {
   "cell_type": "code",
   "execution_count": null,
   "id": "f9083866",
   "metadata": {},
   "outputs": [],
   "source": [
    "pd_df.info()"
   ]
  },
  {
   "cell_type": "code",
   "execution_count": null,
   "id": "a9a6e3bc",
   "metadata": {},
   "outputs": [],
   "source": [
    "pd_df =df.na.fill({'numVotes':mean1_})"
   ]
  },
  {
   "cell_type": "code",
   "execution_count": null,
   "id": "319532a9",
   "metadata": {},
   "outputs": [],
   "source": [
    "pd_df.show()"
   ]
  },
  {
   "cell_type": "code",
   "execution_count": null,
   "id": "dce7b40a",
   "metadata": {},
   "outputs": [],
   "source": [
    "pd_df = pd_df.na.fill({'rating':mean_}).show()\n"
   ]
  },
  {
   "cell_type": "code",
   "execution_count": null,
   "id": "eaac7ffc",
   "metadata": {},
   "outputs": [],
   "source": [
    "df = df.withColumn(\"rating/numVotes\", df.rating/df.numVotes)"
   ]
  },
  {
   "cell_type": "code",
   "execution_count": null,
   "id": "8254232d",
   "metadata": {},
   "outputs": [],
   "source": [
    "df.select(\"rating/numVotes\").show()"
   ]
  },
  {
   "cell_type": "code",
   "execution_count": null,
   "id": "12c94a45",
   "metadata": {},
   "outputs": [],
   "source": [
    "from pyspark.sql.functions import *\n",
    "df.filter(df['rating/numVotes'].isNull()).count()"
   ]
  },
  {
   "cell_type": "code",
   "execution_count": null,
   "id": "57af4257",
   "metadata": {},
   "outputs": [],
   "source": [
    "df.printSchema()"
   ]
  },
  {
   "cell_type": "code",
   "execution_count": null,
   "id": "544f76a2",
   "metadata": {},
   "outputs": [],
   "source": [
    "df.orderBy('rating/numVotes').tail(1)"
   ]
  },
  {
   "cell_type": "code",
   "execution_count": null,
   "id": "99ef644e",
   "metadata": {},
   "outputs": [],
   "source": []
  },
  {
   "cell_type": "code",
   "execution_count": null,
   "id": "7d2f1a88",
   "metadata": {},
   "outputs": [],
   "source": []
  },
  {
   "cell_type": "code",
   "execution_count": null,
   "id": "0e32c6ac",
   "metadata": {},
   "outputs": [],
   "source": []
  }
 ],
 "metadata": {
  "kernelspec": {
   "display_name": "Python 3 (ipykernel)",
   "language": "python",
   "name": "python3"
  },
  "language_info": {
   "codemirror_mode": {
    "name": "ipython",
    "version": 3
   },
   "file_extension": ".py",
   "mimetype": "text/x-python",
   "name": "python",
   "nbconvert_exporter": "python",
   "pygments_lexer": "ipython3",
   "version": "3.9.7"
  }
 },
 "nbformat": 4,
 "nbformat_minor": 5
}
